{
 "cells": [
  {
   "cell_type": "code",
   "execution_count": 99,
   "id": "acbd017d-def5-45a0-8a14-87fa18bc6509",
   "metadata": {},
   "outputs": [],
   "source": [
    "import pandas as pd\n",
    "import seaborn as sns\n",
    "import matplotlib.pyplot as plt\n",
    "import numpy as np\n",
    "from sklearn.model_selection import train_test_split, KFold, cross_val_score\n",
    "from sklearn.linear_model import LogisticRegression, Lasso, BayesianRidge, LassoLarsIC, ElasticNet, LinearRegression, LassoCV\n",
    "from sklearn.metrics import accuracy_score, classification_report, confusion_matrix, mean_squared_error, r2_score, make_scorer\n",
    "import statsmodels.api as sm\n",
    "from sklearn.preprocessing import StandardScaler\n",
    "import math"
   ]
  },
  {
   "cell_type": "markdown",
   "id": "642947b9-a35c-41da-8f9d-0a06e56e2858",
   "metadata": {},
   "source": [
    "## **PART 1. EXPLORING DATA AND VISUALIZATIONS**"
   ]
  },
  {
   "cell_type": "markdown",
   "id": "f8a42244-709e-4895-b41c-ffc3ff137244",
   "metadata": {},
   "source": [
    "### **SCRIPTS FILE:**\n",
    "\n"
   ]
  },
  {
   "cell_type": "markdown",
   "id": "62958f8c-2b7a-4b94-a8b5-43a5c6ae2aeb",
   "metadata": {},
   "source": [
    "### Reading the given csv file and displaying the columns with first five rows specified by .head(5).\n",
    "\n",
    "Starting with the data file scripts and medical given to explore, all the columns are printed out."
   ]
  },
  {
   "cell_type": "code",
   "execution_count": 100,
   "id": "b788d014-d115-486e-a590-6c27d12892eb",
   "metadata": {
    "scrolled": true
   },
   "outputs": [
    {
     "name": "stderr",
     "output_type": "stream",
     "text": [
      "/var/folders/r8/b1vh2fnj40x1yckp9twj6c880000gn/T/ipykernel_42930/699090533.py:2: DtypeWarning: Columns (9,10,29,43) have mixed types. Specify dtype option on import or set low_memory=False.\n",
      "  scriptsFile = pd.read_csv('/Users/stutishekhar/Downloads/longyear-obese-hypertensive-40-75-scripts-SMALL-sample.csv')\n"
     ]
    },
    {
     "name": "stdout",
     "output_type": "stream",
     "text": [
      "                         journey_id  cohort_id  \\\n",
      "0  00006390c96ebfffed580074c35a16a7         16   \n",
      "1  00006390c96ebfffed580074c35a16a7         16   \n",
      "2  00006390c96ebfffed580074c35a16a7         16   \n",
      "3  00006390c96ebfffed580074c35a16a7         16   \n",
      "4  00006390c96ebfffed580074c35a16a7         16   \n",
      "\n",
      "                                            claim_id patient_gender  \\\n",
      "0  60618bd8d37311da702bf9349e76f8c26d515c082e136f...              M   \n",
      "1  dbeb47defd161331e43f4e359e8d43e4ef7546ff58359b...              M   \n",
      "2  02927d081fad10afffcba79bad27f94ff52c98e968aaec...              M   \n",
      "3  a412c986e2503a5140ed1482e88b5ec50feeedaf2d89ec...              M   \n",
      "4  b65634edd78998753fe9606b142b2fff7765d6c576973c...              M   \n",
      "\n",
      "  patient_state  patient_zip patient_dob  pharmacy_npi  pharmacist_npi  \\\n",
      "0            CA        922.0  1961-01-01  1.215361e+09             NaN   \n",
      "1            CA        922.0  1961-01-01  1.215361e+09             NaN   \n",
      "2            CA        922.0  1961-01-01  1.215361e+09             NaN   \n",
      "3            CA        922.0  1961-01-01  1.215361e+09             NaN   \n",
      "4            CA        922.0  1961-01-01  1.215361e+09             NaN   \n",
      "\n",
      "  prescriber_npi  ...      bin plan_pay reject_code_1 reject_code_3  \\\n",
      "0     1750479168  ...  22659.0      NaN           NaN           NaN   \n",
      "1     1750479168  ...  22659.0      NaN           NaN           NaN   \n",
      "2     1750479168  ...  22659.0      NaN           NaN           NaN   \n",
      "3     1750479168  ...  22659.0      NaN           NaN           NaN   \n",
      "4     1750479168  ...  22659.0      NaN           NaN           NaN   \n",
      "\n",
      "  reject_code_4 reject_code_5          ndc  active  start_date end_date  \n",
      "0           NaN           NaN  47335067381    True      190001      NaN  \n",
      "1           NaN           NaN  47335067381    True      190001      NaN  \n",
      "2           NaN           NaN  47335067381    True      190001      NaN  \n",
      "3           NaN           NaN  47335067381    True      190001      NaN  \n",
      "4           NaN           NaN  65862059805    True      190001      NaN  \n",
      "\n",
      "[5 rows x 48 columns]\n"
     ]
    }
   ],
   "source": [
    "# Reading the given csv file\n",
    "scriptsFile = pd.read_csv('/Users/stutishekhar/Downloads/longyear-obese-hypertensive-40-75-scripts-SMALL-sample.csv')\n",
    "print(scriptsFile.head(5))"
   ]
  },
  {
   "cell_type": "markdown",
   "id": "4f61dc47-6c80-492e-b7b6-832c4bfa9e4d",
   "metadata": {},
   "source": [
    "### Printing an overview of the data with its data type by using .info()"
   ]
  },
  {
   "cell_type": "code",
   "execution_count": 101,
   "id": "ee620d9e-7cf6-4c72-b4e0-5012beca0c33",
   "metadata": {
    "scrolled": true
   },
   "outputs": [
    {
     "name": "stdout",
     "output_type": "stream",
     "text": [
      "<class 'pandas.core.frame.DataFrame'>\n",
      "RangeIndex: 894623 entries, 0 to 894622\n",
      "Data columns (total 48 columns):\n",
      " #   Column                         Non-Null Count   Dtype  \n",
      "---  ------                         --------------   -----  \n",
      " 0   journey_id                     894623 non-null  object \n",
      " 1   cohort_id                      894623 non-null  int64  \n",
      " 2   claim_id                       894623 non-null  object \n",
      " 3   patient_gender                 894623 non-null  object \n",
      " 4   patient_state                  894623 non-null  object \n",
      " 5   patient_zip                    894501 non-null  float64\n",
      " 6   patient_dob                    894619 non-null  object \n",
      " 7   pharmacy_npi                   839958 non-null  float64\n",
      " 8   pharmacist_npi                 21578 non-null   float64\n",
      " 9   prescriber_npi                 891155 non-null  object \n",
      " 10  primary_care_npi               3569 non-null    object \n",
      " 11  group_id                       273621 non-null  object \n",
      " 12  date_of_service                894623 non-null  object \n",
      " 13  date_authorized                784676 non-null  object \n",
      " 14  transaction_type               894623 non-null  object \n",
      " 15  date_prescription_written      894623 non-null  object \n",
      " 16  ndc11                          894623 non-null  int64  \n",
      " 17  ndc11_original                 94203 non-null   float64\n",
      " 18  number_of_refills_authorized   849519 non-null  float64\n",
      " 19  diagnosis_code                 174705 non-null  object \n",
      " 20  diagnosis_code_type            111634 non-null  float64\n",
      " 21  quantity_prescribed_original   322348 non-null  float64\n",
      " 22  quantity_dispensed             894616 non-null  float64\n",
      " 23  place_of_service               346197 non-null  float64\n",
      " 24  is_service                     678323 non-null  object \n",
      " 25  level_of_service               217951 non-null  float64\n",
      " 26  fill_number                    894623 non-null  float64\n",
      " 27  days_supply                    894623 non-null  float64\n",
      " 28  unit_of_measure                594590 non-null  object \n",
      " 29  daw_code                       192144 non-null  object \n",
      " 30  prior_authorization_type_code  8916 non-null    float64\n",
      " 31  is_compound_drug               784594 non-null  object \n",
      " 32  coupon_type                    2030 non-null    float64\n",
      " 33  coupon_value_amount            5 non-null       float64\n",
      " 34  pharmacy_submitted_cost        785081 non-null  float64\n",
      " 35  patient_pay                    601820 non-null  float64\n",
      " 36  copay_coinsurance              411383 non-null  float64\n",
      " 37  pcn                            775703 non-null  object \n",
      " 38  bin                            786240 non-null  float64\n",
      " 39  plan_pay                       491878 non-null  float64\n",
      " 40  reject_code_1                  187279 non-null  object \n",
      " 41  reject_code_3                  41252 non-null   object \n",
      " 42  reject_code_4                  7408 non-null    object \n",
      " 43  reject_code_5                  1524 non-null    object \n",
      " 44  ndc                            894623 non-null  int64  \n",
      " 45  active                         894623 non-null  bool   \n",
      " 46  start_date                     894623 non-null  int64  \n",
      " 47  end_date                       32448 non-null   float64\n",
      "dtypes: bool(1), float64(21), int64(4), object(22)\n",
      "memory usage: 321.6+ MB\n",
      "None\n"
     ]
    }
   ],
   "source": [
    "print(scriptsFile.info())"
   ]
  },
  {
   "cell_type": "markdown",
   "id": "601f4270-075f-414f-af95-d10f7f4ea243",
   "metadata": {},
   "source": [
    "### Printing the size of file and describing count, mean values, deviation (key statistics) for the columns given\n",
    "\n",
    "The function . size() is used to get the size of the file, and .describe() displays the statistical values for the columns provided."
   ]
  },
  {
   "cell_type": "code",
   "execution_count": 102,
   "id": "b555ac28-22d9-47bd-bfa0-8f00804bf9f1",
   "metadata": {},
   "outputs": [
    {
     "name": "stdout",
     "output_type": "stream",
     "text": [
      "Size = 42941904\n"
     ]
    }
   ],
   "source": [
    "# Printing size of the file by size()\n",
    "size = scriptsFile.size\n",
    "print(\"Size = {}\".format(size))"
   ]
  },
  {
   "cell_type": "code",
   "execution_count": 103,
   "id": "72e6fa2d-4434-4666-b6c4-5a9e37b0e320",
   "metadata": {
    "scrolled": true
   },
   "outputs": [
    {
     "name": "stdout",
     "output_type": "stream",
     "text": [
      "           cohort_id    patient_zip  pharmacy_npi  pharmacist_npi  \\\n",
      "count  894623.000000  894501.000000  8.399580e+05    2.157800e+04   \n",
      "mean       16.065902     886.761085  1.505555e+09    1.475807e+09   \n",
      "std         0.248110     121.719342  2.862710e+08    2.925536e+08   \n",
      "min        16.000000     100.000000  1.003010e+09    1.003455e+09   \n",
      "25%        16.000000     900.000000  1.255441e+09    1.154909e+09   \n",
      "50%        16.000000     913.000000  1.497865e+09    1.457999e+09   \n",
      "75%        16.000000     922.000000  1.740323e+09    1.689011e+09   \n",
      "max        17.000000     992.000000  6.167056e+09    1.992978e+09   \n",
      "\n",
      "              ndc11  ndc11_original  number_of_refills_authorized  \\\n",
      "count  8.946230e+05    9.420300e+04                 849519.000000   \n",
      "mean   3.913810e+10    1.318060e+10                      2.496945   \n",
      "std    2.808575e+10    2.446082e+10                      6.861014   \n",
      "min    2.143301e+06    0.000000e+00                     -1.000000   \n",
      "25%    9.046999e+08    0.000000e+00                      0.000000   \n",
      "50%    4.948305e+10    0.000000e+00                      1.000000   \n",
      "75%    6.586206e+10    9.551004e+08                      3.000000   \n",
      "max    9.920701e+10    9.920705e+10                     99.000000   \n",
      "\n",
      "       diagnosis_code_type  quantity_prescribed_original  quantity_dispensed  \\\n",
      "count        111634.000000                  322348.00000        8.946160e+05   \n",
      "mean              9.999113                      11.03221        7.151479e+01   \n",
      "std               0.029767                      85.75864        3.589294e+03   \n",
      "min               9.000000                       0.00000        0.000000e+00   \n",
      "25%              10.000000                       0.00000        3.000000e+01   \n",
      "50%              10.000000                       0.00000        3.000000e+01   \n",
      "75%              10.000000                       0.00000        9.000000e+01   \n",
      "max              10.000000                   10000.00000        3.390291e+06   \n",
      "\n",
      "       ...  coupon_type  coupon_value_amount  pharmacy_submitted_cost  \\\n",
      "count  ...       2030.0                  5.0             7.850810e+05   \n",
      "mean   ...         88.0                 99.0             4.547052e+02   \n",
      "std    ...          0.0                  0.0             4.805967e+04   \n",
      "min    ...         88.0                 99.0            -7.370000e+00   \n",
      "25%    ...         88.0                 99.0             2.799000e+01   \n",
      "50%    ...         88.0                 99.0             9.526000e+01   \n",
      "75%    ...         88.0                 99.0             3.220600e+02   \n",
      "max    ...         88.0                 99.0             4.252220e+07   \n",
      "\n",
      "         patient_pay  copay_coinsurance            bin       plan_pay  \\\n",
      "count  601820.000000      411383.000000  786240.000000  491878.000000   \n",
      "mean       10.890529           7.075289  121957.811418     167.327912   \n",
      "std        96.639674          59.716082  230816.951281     802.330352   \n",
      "min      -189.700000       -3198.400000       0.000000   -1458.620000   \n",
      "25%         0.000000           0.000000    4336.000000       2.290000   \n",
      "50%         0.000000           1.350000   17010.000000      13.580000   \n",
      "75%         4.000000           4.150000   22659.000000      36.300000   \n",
      "max     25598.020000        6923.160000  900020.000000   50307.120000   \n",
      "\n",
      "                ndc     start_date       end_date  \n",
      "count  8.946230e+05  894623.000000   32448.000000  \n",
      "mean   3.913810e+10  190740.803998  201718.841285  \n",
      "std    2.808575e+10    2830.185124     400.902819  \n",
      "min    2.143301e+06  190001.000000  201001.000000  \n",
      "25%    9.046999e+08  190001.000000  201411.000000  \n",
      "50%    4.948305e+10  190001.000000  201802.000000  \n",
      "75%    6.586206e+10  190001.000000  201907.000000  \n",
      "max    9.920701e+10  202308.000000  202307.000000  \n",
      "\n",
      "[8 rows x 25 columns]\n"
     ]
    }
   ],
   "source": [
    "print(scriptsFile.describe())"
   ]
  },
  {
   "cell_type": "markdown",
   "id": "41eb99c4-4f17-4933-b7cb-ef631c0f94b0",
   "metadata": {},
   "source": [
    "### Identifying the missing key values\n",
    "\n",
    "The missing values are checked using the function .isnull(), and .sum() calculates the number of null values present within that column. The result shows multiple null values in patient_zip, patient_dob, quantity_dispensed etc. However, we can see large number of values missing in several columns such as pharmacy_npi, group_id and even date_authorized. The column 'date_authorized' seems to be one of the important attribute having so many null values, which could create inconsistency to the data."
   ]
  },
  {
   "cell_type": "code",
   "execution_count": 104,
   "id": "a6b4ac41-a814-4a0a-a7c9-c4f7faf1a3a4",
   "metadata": {
    "scrolled": true
   },
   "outputs": [
    {
     "name": "stdout",
     "output_type": "stream",
     "text": [
      "journey_id                            0\n",
      "cohort_id                             0\n",
      "claim_id                              0\n",
      "patient_gender                        0\n",
      "patient_state                         0\n",
      "patient_zip                         122\n",
      "patient_dob                           4\n",
      "pharmacy_npi                      54665\n",
      "pharmacist_npi                   873045\n",
      "prescriber_npi                     3468\n",
      "primary_care_npi                 891054\n",
      "group_id                         621002\n",
      "date_of_service                       0\n",
      "date_authorized                  109947\n",
      "transaction_type                      0\n",
      "date_prescription_written             0\n",
      "ndc11                                 0\n",
      "ndc11_original                   800420\n",
      "number_of_refills_authorized      45104\n",
      "diagnosis_code                   719918\n",
      "diagnosis_code_type              782989\n",
      "quantity_prescribed_original     572275\n",
      "quantity_dispensed                    7\n",
      "place_of_service                 548426\n",
      "is_service                       216300\n",
      "level_of_service                 676672\n",
      "fill_number                           0\n",
      "days_supply                           0\n",
      "unit_of_measure                  300033\n",
      "daw_code                         702479\n",
      "prior_authorization_type_code    885707\n",
      "is_compound_drug                 110029\n",
      "coupon_type                      892593\n",
      "coupon_value_amount              894618\n",
      "pharmacy_submitted_cost          109542\n",
      "patient_pay                      292803\n",
      "copay_coinsurance                483240\n",
      "pcn                              118920\n",
      "bin                              108383\n",
      "plan_pay                         402745\n",
      "reject_code_1                    707344\n",
      "reject_code_3                    853371\n",
      "reject_code_4                    887215\n",
      "reject_code_5                    893099\n",
      "ndc                                   0\n",
      "active                                0\n",
      "start_date                            0\n",
      "end_date                         862175\n",
      "dtype: int64\n"
     ]
    }
   ],
   "source": [
    "print(scriptsFile.isnull().sum())"
   ]
  },
  {
   "cell_type": "markdown",
   "id": "3793e624-0ab8-4bee-b694-25aaa920025b",
   "metadata": {},
   "source": [
    "### Displaying the values of Patient State used in this file\n",
    "\n",
    "**KEY:** 'CA' Letter denotes 'California', 'NY' Letter denotes New York, 'TX' Texas, 'FL' Florida, 'IL' Illinois.\n",
    "\n",
    "Method .unique() retrives the unique set of values in the provided column\n",
    "\n",
    "**OBSERVATIONS:** The file contains data for only five states."
   ]
  },
  {
   "cell_type": "code",
   "execution_count": 105,
   "id": "ffa3a95d-f10d-4d96-b724-51e76cb6f3d7",
   "metadata": {},
   "outputs": [
    {
     "name": "stdout",
     "output_type": "stream",
     "text": [
      "List of Patient State: ['CA' 'NY' 'TX' 'FL' 'IL']\n"
     ]
    }
   ],
   "source": [
    "# Retrieving unique values\n",
    "patientState = scriptsFile['patient_state'].unique()\n",
    "print(\"List of Patient State:\", patientState)"
   ]
  },
  {
   "cell_type": "markdown",
   "id": "ea5ed36f-ac05-4487-a1d5-8e2218582f2a",
   "metadata": {},
   "source": [
    "### Displaying the values of Patient Gender used in this file\n",
    "\n",
    "**KEY:** 'M' denotes Male, 'F' denotes Female."
   ]
  },
  {
   "cell_type": "code",
   "execution_count": 106,
   "id": "59f23b86-7a48-4343-8442-09fd1b56c88a",
   "metadata": {},
   "outputs": [
    {
     "name": "stdout",
     "output_type": "stream",
     "text": [
      "List of patient Gender: ['M' 'F']\n"
     ]
    }
   ],
   "source": [
    "# Retrieving unique values\n",
    "patientGender = scriptsFile['patient_gender'].unique()\n",
    "print(\"List of patient Gender:\", patientGender)"
   ]
  },
  {
   "cell_type": "markdown",
   "id": "41d90add-96cc-4f55-b435-1bf3fb38a4df",
   "metadata": {},
   "source": [
    "### Displaying the values of Diagnosis Code Type used in this file\n",
    "\n",
    "After filtering the na, and checking the unique values, the length is printed.\n",
    "\n",
    "**OBSERVATIONS:** The length of the attribute signifies a large number of unique values which is an interesting finding. First 10 values of diagnosis code are then displayed."
   ]
  },
  {
   "cell_type": "code",
   "execution_count": 107,
   "id": "29d65dca-9c1d-40b3-886e-abd93e4501ca",
   "metadata": {},
   "outputs": [
    {
     "name": "stdout",
     "output_type": "stream",
     "text": [
      "Number of unique values: 2718\n",
      "Displayng the values:\n",
      "['F411' 'N529' 'D126' 'I10' 'F410' 'E782' 'E118' 'E1121' 'L03116' 'N401']\n"
     ]
    }
   ],
   "source": [
    "# Retrieving unique values\n",
    "codeType = scriptsFile['diagnosis_code'].dropna().unique()\n",
    "print(\"Number of unique values:\", len(codeType))\n",
    "print(\"Displayng the values:\")\n",
    "print(codeType[0:10])"
   ]
  },
  {
   "cell_type": "markdown",
   "id": "93300576-f16a-43ca-8ec5-cfe9cab0b39f",
   "metadata": {},
   "source": [
    "### **MEDICAL FILE:**\n",
    "\n",
    "### Reading the given csv file and displaying the columns with first five rows specified by .head(5).\n",
    "\n",
    "Starting with the data file scripts and medical given to explore, all the columns are printed out."
   ]
  },
  {
   "cell_type": "code",
   "execution_count": 108,
   "id": "f1903ec3-e570-4e28-82f6-20af1875f61a",
   "metadata": {
    "scrolled": true
   },
   "outputs": [
    {
     "name": "stdout",
     "output_type": "stream",
     "text": [
      "                         journey_id                        episode_id  \\\n",
      "0  00006390c96ebfffed580074c35a16a7  d5e15811af1d772f54af52f3560be0a5   \n",
      "1  00006390c96ebfffed580074c35a16a7  d5e15811af1d772f54af52f3560be0a5   \n",
      "2  00006390c96ebfffed580074c35a16a7  e25e5285e4f66d35c9840bf4e040fe73   \n",
      "3  00006390c96ebfffed580074c35a16a7  e25e5285e4f66d35c9840bf4e040fe73   \n",
      "4  00006d564a4718c744f1bbf1b6c5f8c3  42ba4419d9ad7c9293d76686fb608f10   \n",
      "\n",
      "                                            visit_id  \\\n",
      "0  f22b7ab885c44afae5449d74f8498f53aea1b2cfa79598...   \n",
      "1  f22b7ab885c44afae5449d74f8498f53aea1b2cfa79598...   \n",
      "2  3f45ba8ebef02b0c09b09e864e57ba5ee9d6bc9acf1c39...   \n",
      "3  3f45ba8ebef02b0c09b09e864e57ba5ee9d6bc9acf1c39...   \n",
      "4  9e4534892128401c693a6ab2ea758cd6a0a6484972168b...   \n",
      "\n",
      "                                        encounter_id  claim_date  \\\n",
      "0  d5a7dc61071d977cef9ff762973d360f4bcf15a19790d9...  2020-07-13   \n",
      "1  d5a7dc61071d977cef9ff762973d360f4bcf15a19790d9...  2020-07-13   \n",
      "2  c60da949b58f0351c8781c062f65d92bce76d9532d1632...  2023-07-19   \n",
      "3  c60da949b58f0351c8781c062f65d92bce76d9532d1632...  2023-07-19   \n",
      "4  da5cef18317c14180ed561a84001d8a033d724d541a2c0...  2023-08-11   \n",
      "\n",
      "  patient_state  patient_short_zip  patient_age patient_gender  \\\n",
      "0            CA              922.0         55.0              M   \n",
      "1            CA              922.0         55.0              M   \n",
      "2            CA              922.0         60.0              M   \n",
      "3            CA              922.0         60.0              M   \n",
      "4            CA              900.0         55.0              F   \n",
      "\n",
      "         place_of_service  ...  diag_4  diag_5 rev_center_code  \\\n",
      "0                    Home  ...     NaN     NaN             NaN   \n",
      "1                    Home  ...     NaN     NaN             NaN   \n",
      "2                  Office  ...  L03115  L03116             NaN   \n",
      "3                  Office  ...  L03115  L03116             NaN   \n",
      "4  Independent Laboratory  ...     NaN     NaN             NaN   \n",
      "\n",
      "   rev_center_units  proc_code proc_modifier proc_units  line_charge  \\\n",
      "0               1.0      A6549            NU        2.0       300.00   \n",
      "1               1.0      A6549            NU        2.0       300.00   \n",
      "2               1.0      3074F           NaN        1.0         0.00   \n",
      "3               1.0      3078F           NaN        1.0         0.00   \n",
      "4               1.0      80053           NaN        1.0        88.07   \n",
      "\n",
      "  claim_charge smart_allowed  \n",
      "0       300.00        974.13  \n",
      "1       300.00        974.13  \n",
      "2         0.00         46.57  \n",
      "3         0.00         56.38  \n",
      "4        88.07         15.16  \n",
      "\n",
      "[5 rows x 34 columns]\n"
     ]
    }
   ],
   "source": [
    "# Reading the given csv file\n",
    "medicalFile = pd.read_csv('/Users/stutishekhar/Downloads/longyear-obese-hypertensive-40-57-medical-SMALL-sample.csv')\n",
    "print(medicalFile.head(5))"
   ]
  },
  {
   "cell_type": "markdown",
   "id": "3d3dfcb4-201a-41de-8886-22d8756dd9b7",
   "metadata": {},
   "source": [
    "### Printing an overview of the data with its data type by using .info()"
   ]
  },
  {
   "cell_type": "code",
   "execution_count": 109,
   "id": "f5dd7492-305f-41e4-a3ed-ccfb76ef88aa",
   "metadata": {
    "scrolled": true
   },
   "outputs": [
    {
     "name": "stdout",
     "output_type": "stream",
     "text": [
      "<class 'pandas.core.frame.DataFrame'>\n",
      "RangeIndex: 623525 entries, 0 to 623524\n",
      "Data columns (total 34 columns):\n",
      " #   Column             Non-Null Count   Dtype  \n",
      "---  ------             --------------   -----  \n",
      " 0   journey_id         623525 non-null  object \n",
      " 1   episode_id         623525 non-null  object \n",
      " 2   visit_id           621650 non-null  object \n",
      " 3   encounter_id       623525 non-null  object \n",
      " 4   claim_date         623525 non-null  object \n",
      " 5   patient_state      623525 non-null  object \n",
      " 6   patient_short_zip  623512 non-null  float64\n",
      " 7   patient_age        616980 non-null  float64\n",
      " 8   patient_gender     623393 non-null  object \n",
      " 9   place_of_service   484555 non-null  object \n",
      " 10  visit_type         600454 non-null  object \n",
      " 11  payor              608936 non-null  object \n",
      " 12  payor_channel      586086 non-null  object \n",
      " 13  ref_npi            297501 non-null  float64\n",
      " 14  hcp_npi            434653 non-null  float64\n",
      " 15  hcp_taxonomy       428209 non-null  object \n",
      " 16  hcp_specialty      428229 non-null  object \n",
      " 17  hco_npi            617789 non-null  float64\n",
      " 18  hcp_npi_list       434653 non-null  object \n",
      " 19  hco_npi_list       617789 non-null  object \n",
      " 20  diag_list          622655 non-null  object \n",
      " 21  diag_1             622655 non-null  object \n",
      " 22  diag_2             460595 non-null  object \n",
      " 23  diag_3             365284 non-null  object \n",
      " 24  diag_4             298233 non-null  object \n",
      " 25  diag_5             205016 non-null  object \n",
      " 26  rev_center_code    113926 non-null  float64\n",
      " 27  rev_center_units   621558 non-null  float64\n",
      " 28  proc_code          599612 non-null  object \n",
      " 29  proc_modifier      165948 non-null  object \n",
      " 30  proc_units         621331 non-null  float64\n",
      " 31  line_charge        623525 non-null  float64\n",
      " 32  claim_charge       623525 non-null  float64\n",
      " 33  smart_allowed      623525 non-null  float64\n",
      "dtypes: float64(11), object(23)\n",
      "memory usage: 161.7+ MB\n",
      "None\n"
     ]
    }
   ],
   "source": [
    "print(medicalFile.info())"
   ]
  },
  {
   "cell_type": "markdown",
   "id": "596820c2-e8f6-4117-9369-f6661e307f8c",
   "metadata": {},
   "source": [
    "### Printing the size of file and describing count, mean values, deviation (key statistics) for the columns given\n",
    "\n",
    "The function . size() is used to get the size of the file, and .describe() displays the statistical values for the columns provided."
   ]
  },
  {
   "cell_type": "code",
   "execution_count": 110,
   "id": "a71d5fff-edf3-456b-b53c-31f5a6c62b58",
   "metadata": {},
   "outputs": [
    {
     "name": "stdout",
     "output_type": "stream",
     "text": [
      "Size = 21199850\n"
     ]
    }
   ],
   "source": [
    "# Printing size of the file by size()\n",
    "size = medicalFile.size\n",
    "print(\"Size = {}\".format(size))"
   ]
  },
  {
   "cell_type": "code",
   "execution_count": 111,
   "id": "2029f18d-219e-46a3-9fa4-0d28f2b8ee1a",
   "metadata": {
    "scrolled": true
   },
   "outputs": [
    {
     "name": "stdout",
     "output_type": "stream",
     "text": [
      "       patient_short_zip    patient_age       ref_npi       hcp_npi  \\\n",
      "count      623512.000000  616980.000000  2.975010e+05  4.346530e+05   \n",
      "mean          907.514954      59.416910  1.502083e+09  1.508734e+09   \n",
      "std            40.034735       9.946158  2.868359e+08  2.825083e+08   \n",
      "min            74.000000      30.000000  1.003001e+09  1.003001e+09   \n",
      "25%           900.000000      55.000000  1.255437e+09  1.265668e+09   \n",
      "50%           911.000000      60.000000  1.508952e+09  1.528016e+09   \n",
      "75%           922.000000      65.000000  1.740350e+09  1.740376e+09   \n",
      "max           999.000000      80.000000  1.992999e+09  1.993000e+09   \n",
      "\n",
      "            hco_npi  rev_center_code  rev_center_units     proc_units  \\\n",
      "count  6.177890e+05    113926.000000     621558.000000  621331.000000   \n",
      "mean   1.485095e+09       456.083449          1.243236       4.319060   \n",
      "std    2.859965e+08       451.591644          2.458118      55.208116   \n",
      "min    1.003006e+09         1.000000        -14.000000       0.000000   \n",
      "25%    1.245340e+09       301.000000          1.000000       1.000000   \n",
      "50%    1.467631e+09       320.000000          1.000000       1.000000   \n",
      "75%    1.720295e+09       521.000000          1.000000       1.000000   \n",
      "max    1.992995e+09      3103.000000        730.000000   12473.000000   \n",
      "\n",
      "         line_charge   claim_charge  smart_allowed  \n",
      "count  623525.000000  623525.000000  623525.000000  \n",
      "mean      482.437268     482.437268     190.295642  \n",
      "std      3582.592825    3582.592825     509.339625  \n",
      "min         0.000000       0.000000       0.000000  \n",
      "25%        10.000000      10.000000      18.190000  \n",
      "50%        70.000000      70.000000      75.230000  \n",
      "75%       200.000000     200.000000     182.360000  \n",
      "max    778750.000000  778750.000000   45035.960000  \n"
     ]
    }
   ],
   "source": [
    "print(medicalFile.describe())"
   ]
  },
  {
   "cell_type": "markdown",
   "id": "d3d8a759-8b1d-4e1a-be7f-e194dcfc749a",
   "metadata": {},
   "source": [
    "### Identifying the missing key values\n",
    "\n",
    "The missing values are checked using the function .isnull(), and .sum() calculates the number of null values present within that column. The data shows missing values in several columns, few of important one also such as visit_id, patient_age and patient_gender."
   ]
  },
  {
   "cell_type": "code",
   "execution_count": 112,
   "id": "b62d3a50-58a6-46c4-80af-e432e8419d97",
   "metadata": {
    "scrolled": true
   },
   "outputs": [
    {
     "name": "stdout",
     "output_type": "stream",
     "text": [
      "journey_id                0\n",
      "episode_id                0\n",
      "visit_id               1875\n",
      "encounter_id              0\n",
      "claim_date                0\n",
      "patient_state             0\n",
      "patient_short_zip        13\n",
      "patient_age            6545\n",
      "patient_gender          132\n",
      "place_of_service     138970\n",
      "visit_type            23071\n",
      "payor                 14589\n",
      "payor_channel         37439\n",
      "ref_npi              326024\n",
      "hcp_npi              188872\n",
      "hcp_taxonomy         195316\n",
      "hcp_specialty        195296\n",
      "hco_npi                5736\n",
      "hcp_npi_list         188872\n",
      "hco_npi_list           5736\n",
      "diag_list               870\n",
      "diag_1                  870\n",
      "diag_2               162930\n",
      "diag_3               258241\n",
      "diag_4               325292\n",
      "diag_5               418509\n",
      "rev_center_code      509599\n",
      "rev_center_units       1967\n",
      "proc_code             23913\n",
      "proc_modifier        457577\n",
      "proc_units             2194\n",
      "line_charge               0\n",
      "claim_charge              0\n",
      "smart_allowed             0\n",
      "dtype: int64\n"
     ]
    }
   ],
   "source": [
    "print(medicalFile.isnull().sum())"
   ]
  },
  {
   "cell_type": "markdown",
   "id": "c0f2bea8-fa50-4384-b17b-90fc85358d80",
   "metadata": {},
   "source": [
    "### Displaying the values of Visit Type used in this file\n",
    "Method .unique() retrives the unique set of values in the provided column\n",
    "\n",
    "**OBSERVATIONS:** The list shows different type of visits, weighing broader area such as home, impatient and emergency rooms."
   ]
  },
  {
   "cell_type": "code",
   "execution_count": 113,
   "id": "1bcd7acc-00e1-4333-a6ef-ddf2218b6294",
   "metadata": {},
   "outputs": [
    {
     "name": "stdout",
     "output_type": "stream",
     "text": [
      "List of Visit Types:\n",
      "['home visit' 'outpatient visit' 'laboratory visit' nan\n",
      " 'emergency room visit' 'inpatient visit' 'ambulance visit'\n",
      " 'non-hospital institution visit' 'pharmacy visit']\n"
     ]
    }
   ],
   "source": [
    "print(\"List of Visit Types:\")\n",
    "print(medicalFile['visit_type'].unique())"
   ]
  },
  {
   "cell_type": "markdown",
   "id": "7271fce7-40d9-409e-b142-5ee8a2f0a53f",
   "metadata": {},
   "source": [
    "### Displaying the values of Payor Channel used in this file\n",
    "\n",
    "Method .unique() retrives the unique set of values in the provided column"
   ]
  },
  {
   "cell_type": "code",
   "execution_count": 114,
   "id": "e028ff2a-0e0a-4821-9af0-aaa8fb3fe823",
   "metadata": {},
   "outputs": [
    {
     "name": "stdout",
     "output_type": "stream",
     "text": [
      "List of Payor Channel:\n",
      "['managed medicaid' 'commercial' nan 'medicare advantage' 'medicare'\n",
      " 'medicaid' 'tricare' 'veterans affairs' 'workers comp']\n"
     ]
    }
   ],
   "source": [
    "print(\"List of Payor Channel:\")\n",
    "print(medicalFile['payor_channel'].unique())"
   ]
  },
  {
   "cell_type": "markdown",
   "id": "05912bcd-0063-4217-9b2c-b93615432f21",
   "metadata": {},
   "source": [
    "### CORRELATION MATRIX\n",
    "\n",
    "Correlation Matrix was plotted to check how the variables are related to each other. The datatype with object, or categorical values was excluded to plot the heatmap. corr() function was used to calculate all the values. Seaborn Library was used to plot the heatmap, with color tone as warm for better representation.\n",
    "\n",
    "**SCRIPTS FILE:**\n",
    "\n",
    "**INFERENCE:** The matrix shows high positive correlation between level_of_service and authorization_type_code, which could be mapped to higher level of specialised services requiring different and more authorization code. It also suggest no correlation between pharmacy_submitted_cost and patient_pay, which is expected as their could be multiple factors such as Insurance playing a role. "
   ]
  },
  {
   "cell_type": "code",
   "execution_count": 115,
   "id": "31f55ae8-9595-46e8-866c-f16e608ca7ef",
   "metadata": {},
   "outputs": [
    {
     "data": {
      "image/png": "[encoded data removed]",
      "text/plain": [
       "<Figure size 640x480 with 2 Axes>"
      ]
     },
     "metadata": {},
     "output_type": "display_data"
    }
   ],
   "source": [
    "# Removing the object variables and plotting matrix for float and int variables\n",
    "selectedColumns = scriptsFile.select_dtypes(include=['float64','int64']).columns\n",
    "selectedColumns = selectedColumns.drop(['coupon_type', 'coupon_value_amount']) \n",
    "corrMatrix = scriptsFile[selectedColumns].corr()\n",
    "\n",
    "sns.heatmap(corrMatrix, cmap='coolwarm')\n",
    "plt.title('Correlation Matrix')\n",
    "plt.show()"
   ]
  },
  {
   "cell_type": "markdown",
   "id": "1c3a1fcd-a5b9-4488-b8b7-773febc7a07d",
   "metadata": {},
   "source": [
    "**MEDICAL FILE:**\n",
    "\n",
    "The matrix suggests a high correlation between claim_charge and line_charge, which could be due to line charge being a subset of claim, and almost negative correlation between others except hcp_npi and ref_npi."
   ]
  },
  {
   "cell_type": "code",
   "execution_count": 116,
   "id": "d313c7b3-7b7c-464e-9344-0ff9ad65a340",
   "metadata": {},
   "outputs": [
    {
     "data": {
      "image/png": "[encoded data removed]",
      "text/plain": [
       "<Figure size 640x480 with 2 Axes>"
      ]
     },
     "metadata": {},
     "output_type": "display_data"
    }
   ],
   "source": [
    "# Removing the object variables and plotting matrix for float and int variables\n",
    "selectedColumns = medicalFile.select_dtypes(include=['float64','int64']).columns\n",
    "\n",
    "corrMatrix = medicalFile[selectedColumns].corr()\n",
    "\n",
    "sns.heatmap(corrMatrix, cmap='coolwarm')\n",
    "plt.title('Correlation Matrix')\n",
    "plt.show()"
   ]
  },
  {
   "cell_type": "markdown",
   "id": "863f56c3-9bbf-4f3d-93ac-faaf8dba9d20",
   "metadata": {},
   "source": [
    "## **VISUALIZING DATA**"
   ]
  },
  {
   "cell_type": "markdown",
   "id": "32e21788-957b-493b-b5cf-cef2efa86b4e",
   "metadata": {},
   "source": [
    "### **Visualization 1:** Count of Patient across Genders\n",
    "\n",
    "Diving into the data, the values provided talks about the Patient Diagnosed and prescriped Ozempic dependent on several factors provided. One of the attributes to check the division is Gender which is represented by a categorical value 'patient_gender'. This helps in understanding how it is spread across Male and Female.\n",
    "\n",
    "Seaborn Library with catplot() is used to construct the bar plot by specifying kind as Count. To make the visualization look more appealing paletter is changed to 'viridis', and a black edge is also defined.\n",
    "\n",
    "**INSIGHTS:** The graph infers that, the count of 'F' i.e Female is higher than 'M' Male. The difference is approximately around 520K(F) - 380K(t) = 140K."
   ]
  },
  {
   "cell_type": "code",
   "execution_count": 117,
   "id": "4de1ada8-6f7f-4ac9-8312-5e453bcf885a",
   "metadata": {},
   "outputs": [
    {
     "data": {
      "image/png": "[encoded data removed]",
      "text/plain": [
       "<Figure size 500x500 with 1 Axes>"
      ]
     },
     "metadata": {},
     "output_type": "display_data"
    }
   ],
   "source": [
    "sns.catplot(x='patient_gender', kind='count', data=scriptsFile, hue='patient_gender', palette = 'viridis', edgecolor='black')\n",
    "plt.title('Count of Patient across Genders')\n",
    "plt.xlabel('Gender')\n",
    "plt.ylabel('Frequency')\n",
    "plt.legend(labels=['Male', 'Female'])\n",
    "plt.show()"
   ]
  },
  {
   "cell_type": "markdown",
   "id": "16a905ec-6ed5-4345-bfc4-9e022834c484",
   "metadata": {},
   "source": [
    "### **Visualization 2:** Count of Patient across Genders for J3490\n",
    "\n",
    "**FINDINGS:** However, when the data is filtered on proc_code 'J3490', which suggests use of ozempic, the frequency difference flips with male being higher than female. The difference is of approx around 450-310 = 140."
   ]
  },
  {
   "cell_type": "code",
   "execution_count": 118,
   "id": "7645972a-a9d9-4218-a854-7552f9518166",
   "metadata": {},
   "outputs": [],
   "source": [
    "# Filtering data for ozempic\n",
    "medicalFileFiltered = medicalFile[medicalFile['proc_code'] == 'J3490']"
   ]
  },
  {
   "cell_type": "code",
   "execution_count": 119,
   "id": "093b4d6b-97e2-49d8-8931-b8571e35b08c",
   "metadata": {},
   "outputs": [
    {
     "data": {
      "image/png": "[encoded data removed]",
      "text/plain": [
       "<Figure size 500x500 with 1 Axes>"
      ]
     },
     "metadata": {},
     "output_type": "display_data"
    }
   ],
   "source": [
    "sns.catplot(x='patient_gender', kind='count', data=medicalFileFiltered, hue='patient_gender', palette = 'muted', edgecolor='black')\n",
    "plt.title('Count of Patient across Genders for J3490')\n",
    "plt.xlabel('Gender')\n",
    "plt.ylabel('Frequency')\n",
    "plt.legend(labels=['Male', 'Female'])\n",
    "plt.show()"
   ]
  },
  {
   "cell_type": "markdown",
   "id": "4f4e11cd-6c71-4a45-878c-ed685c8fa08d",
   "metadata": {},
   "source": [
    "### **Visualization 3:** Frequency of Different Visit Types\n",
    "\n",
    "Similarly, a graph for different Visit Types were plotted to check the frequencies. The unique value is taken as x-axis and the Frequency as y-axis. \n",
    "\n",
    "**INSIGHTS:** The graph infers that of all the visit types provided , the count of 'outpatient visit' is the highest followed by 'laboratory visits, however, the emergency room visit seems to be quite low for the overall data."
   ]
  },
  {
   "cell_type": "code",
   "execution_count": 120,
   "id": "94ad9f86-2db6-414c-b921-f43e3581774c",
   "metadata": {},
   "outputs": [
    {
     "data": {
      "image/png": "[encoded data removed]",
      "text/plain": [
       "<Figure size 743.375x500 with 1 Axes>"
      ]
     },
     "metadata": {},
     "output_type": "display_data"
    }
   ],
   "source": [
    "sns.catplot(x='visit_type', kind='count', data=medicalFile, hue='visit_type', palette = 'viridis', edgecolor='black')\n",
    "plt.title('Frequency of Different Visit Types')\n",
    "plt.xlabel('Visit Type')\n",
    "plt.ylabel('Frequency')\n",
    "# Rotating the labels for a better view\n",
    "plt.xticks(rotation=45, ha='right')\n",
    "plt.show()"
   ]
  },
  {
   "cell_type": "markdown",
   "id": "b2d9322f-5d7c-4165-b4d5-810e365a7fb2",
   "metadata": {},
   "source": [
    "### **Visualization 4:** Count of Patient States\n",
    "\n",
    "To dive deep, a bar plot to check the patient across different states were plotted. The unique value is taken as x-axis and the Frequency as y-axis. \n",
    "\n",
    "**INSIGHTS:** The graph suggests the highest frequency of 'CA' with a visible difference from all the other states being in a same range. There is a difference of more than 700k. This could be due to potential bias also of collecting more data in CA or even self-selection bias."
   ]
  },
  {
   "cell_type": "code",
   "execution_count": 121,
   "id": "88737412-bd48-4e73-86e5-3e29d2e01d30",
   "metadata": {},
   "outputs": [
    {
     "data": {
      "image/png": "[encoded data removed]",
      "text/plain": [
       "<Figure size 500x500 with 1 Axes>"
      ]
     },
     "metadata": {},
     "output_type": "display_data"
    }
   ],
   "source": [
    "sns.catplot(x='patient_state', kind='count', data=scriptsFile, hue='patient_state', palette = 'muted', edgecolor='black')\n",
    "plt.title('Count of Patient States')\n",
    "plt.xlabel('Patient State')\n",
    "plt.ylabel('Frequency')\n",
    "plt.legend(labels=['CA', 'NY','TX','FL','IL'])\n",
    "plt.show()"
   ]
  },
  {
   "cell_type": "markdown",
   "id": "049ced97-7693-4b67-9bb2-de345898b607",
   "metadata": {},
   "source": [
    "### **Visualization 5:** Relationship between first and second diagnosis\n",
    "\n",
    "To check how, diagnosis 1 and diagnosis 2 are affected by each other, a scatterplot for the same was constructed. 'Diag 2' was taken on x-axis, whereas 'Diag 1' on y-axis. The different color shades suggests different values across. Since, the data is large, using frac() function to take out a chunk of values.\n",
    "\n",
    "**INSIGHTS:** The graph suggests that for the high range of Diagnosis 2, Diagnosis 1 appears to be low. This infers a high negative correlation as observed from the graph also, with the data points forming the straight line supporting the prioritization method in a lot of medical fields due to classification of primary and secondary data."
   ]
  },
  {
   "cell_type": "code",
   "execution_count": 122,
   "id": "7048143d-a34e-45b3-9d09-3bcadff4bce0",
   "metadata": {},
   "outputs": [
    {
     "data": {
      "image/png": "[encoded data removed]",
      "text/plain": [
       "<Figure size 640x480 with 1 Axes>"
      ]
     },
     "metadata": {},
     "output_type": "display_data"
    }
   ],
   "source": [
    "updatedMedicalFile = medicalFile.sample(frac=0.001)\n",
    "sns.scatterplot(x='diag_2', y='diag_1', data=updatedMedicalFile, hue='diag_2', palette='crest', edgecolor='black', legend = False)\n",
    "plt.xlabel('Diagnosis 2')\n",
    "plt.ylabel('Diagnosis 1')\n",
    "plt.title('Relationship between first and second diagnosis')\n",
    "\n",
    "# Removing x label and y label due to large values and unclear representation\n",
    "plt.xticks([])\n",
    "plt.yticks([])\n",
    "plt.show()"
   ]
  },
  {
   "cell_type": "markdown",
   "id": "92ffdf3e-de37-411a-9921-c6e052969f23",
   "metadata": {},
   "source": [
    "### **Visualization 6:** Visit type vs Diagnosis\n",
    "\n",
    "To check how Visit type affects Diagnosis 1, a boxplot was created for Types. The x-axis plots types whereas y-axis shows the diagnosis 1.\n",
    "\n",
    "**INSIGHTS:** The graph infers that the impatient visit shows a larger variance, whereas pharmacy visit shows zero and collapses. Outpatient visist and home visit shows similar mean and variance. We could also see numerous outliers present, due to inconsistency in data. These outliers if extreme could influence the representation. "
   ]
  },
  {
   "cell_type": "code",
   "execution_count": 123,
   "id": "41a0219c-fe79-43e4-96ee-4c201358e381",
   "metadata": {},
   "outputs": [
    {
     "data": {
      "image/png": "[encoded data removed]",
      "text/plain": [
       "<Figure size 640x480 with 1 Axes>"
      ]
     },
     "metadata": {},
     "output_type": "display_data"
    }
   ],
   "source": [
    "# Using frac() to extract a chunk of data points\n",
    "updatedMedicalFile = medicalFile.sample(frac=0.000001)\n",
    "sns.boxplot(x='visit_type', y='diag_1', hue = 'visit_type', data=medicalFile, palette = 'muted')\n",
    "plt.title('Visit type vs Diagnosis')\n",
    "plt.xlabel('Visit Type')\n",
    "plt.ylabel('Diagnosis 1')\n",
    "\n",
    "# Removing x label and y label due to large values and unclear representation\n",
    "plt.xticks([])\n",
    "plt.yticks([])\n",
    "plt.show()"
   ]
  },
  {
   "cell_type": "markdown",
   "id": "5f02f4f5-7a3a-4ba0-a4ea-9b1d49598650",
   "metadata": {},
   "source": [
    "### **Visualization 7:** Distribution of Patient Age\n",
    "\n",
    "A histogram was plotted to check the frequency of Age distribution with x-axis as the Age and y-axis as frequency.\n",
    "\n",
    "**INSIGHTS:** The graphs shows a left skewness, i.e the frequency is higher in the higher values of Age. It also shows a higher number of patient in bracket 55-75 age, which relates to the usual medical visits of people with increasing age."
   ]
  },
  {
   "cell_type": "code",
   "execution_count": 124,
   "id": "98a9417e-96b5-4dfa-bfa2-9461b0f53bed",
   "metadata": {},
   "outputs": [
    {
     "data": {
      "image/png": "[encoded data removed]",
      "text/plain": [
       "<Figure size 640x480 with 1 Axes>"
      ]
     },
     "metadata": {},
     "output_type": "display_data"
    }
   ],
   "source": [
    "plt.hist(medicalFile['patient_age'], color='darkblue', edgecolor='black')  \n",
    "plt.xlabel('Patient Age')\n",
    "plt.ylabel('Frequency')\n",
    "plt.title('Distribution of Patient Age')\n",
    "plt.show()"
   ]
  },
  {
   "cell_type": "markdown",
   "id": "3c83b335-bb47-487a-85c5-c90168cbe74b",
   "metadata": {},
   "source": [
    "### **Visualization 8:** Patient State vs Diagnosis\n",
    "\n",
    "In the end, to check how Diagnosis 2 varies with the state of patient, a boxplot was created. The x-axis plots state whereas y-axis shows the diagnosis 2.\n",
    "\n",
    "**INSIGHTS:** The graph infers that Alaska shows a larger variance, whereas it can be noticed 'AE' having no mean line. 'AE' stands for Armed Forces Europe here having only one outlier in the plot, ehich could be due to less data."
   ]
  },
  {
   "cell_type": "code",
   "execution_count": 125,
   "id": "dbd37f24-6bcf-4877-8004-f26a82b19d7b",
   "metadata": {},
   "outputs": [
    {
     "data": {
      "image/png": "[encoded data removed]",
      "text/plain": [
       "<Figure size 640x480 with 1 Axes>"
      ]
     },
     "metadata": {},
     "output_type": "display_data"
    }
   ],
   "source": [
    "updatedMedicalFile = medicalFile.sample(frac=0.000001)\n",
    "sns.boxplot(x='patient_state', y='diag_2', hue = 'patient_state', data=medicalFile, palette = 'YlOrBr')\n",
    "plt.title('Patient State vs Diagnosis')\n",
    "plt.xlabel('Patient State')\n",
    "plt.ylabel('Diagnosis 2')\n",
    "#plt.xticks([])\n",
    "plt.yticks([])\n",
    "plt.show()"
   ]
  },
  {
   "cell_type": "markdown",
   "id": "cdd2eb18-59f3-4e7b-9ef1-8b05c91e520a",
   "metadata": {},
   "source": [
    "## **PART 2: DATA PREPROCESSING AND MERGING:**"
   ]
  },
  {
   "cell_type": "markdown",
   "id": "2791c32f-a83a-4bac-b856-bfea1b3a5c70",
   "metadata": {},
   "source": [
    "### DATA PREPROCESSING\n",
    "\n",
    "Filtering the data based on the J code of ozempic, and finding the diagnosis associated to it. This means that for all these diagnosis, ozempic was suggested. Sorting the list on descending counts, to infer the highest diagnosis with ozempic reference.\n",
    "\n",
    "The code shows: 'I10', 'E119' AND 'Z0000'."
   ]
  },
  {
   "cell_type": "code",
   "execution_count": 126,
   "id": "7049b2ac-e208-4af0-80cd-c67e0d8742b9",
   "metadata": {},
   "outputs": [
    {
     "name": "stdout",
     "output_type": "stream",
     "text": [
      "diag_1\n",
      "I10      43637\n",
      "Z0000    29394\n",
      "E119     25784\n",
      "E1165    13187\n",
      "Z0001    10797\n",
      "G4733     8587\n",
      "E1169     8554\n",
      "E785      7416\n",
      "R079      5761\n",
      "N390      5157\n",
      "Name: count, dtype: int64\n"
     ]
    }
   ],
   "source": [
    "medicalFileFiltered = medicalFile[medicalFile['proc_code'] == 'J3490']\n",
    "unique_diagnosis_codes = medicalFile['diag_1'].unique()\n",
    "count_codes = medicalFile['diag_1'].value_counts()\n",
    "sorted_codes = count_codes.sort_values(ascending=False).head(10)\n",
    "print(sorted_codes)"
   ]
  },
  {
   "cell_type": "markdown",
   "id": "0f11447f-138f-40ad-a936-813fe4c29d55",
   "metadata": {},
   "source": [
    "### HANDLING MISSING VALUE\n",
    "\n",
    "There are various approach used to handle the null values depending on the columns description. Rows with null values are dropped for 'pcn', since this is a variable not being useful in any of the equation. Value '0' is filled for ndc11 column since it is an identifier. Median Imputation is used to substitute patient_dob, date_authorized, as average of date does not make sense, these are first converted to datetime. Other columns with quantitative values are then replaced with 'mean' imputation, this does not drop out the entire row and let the row numvers be intact with other values. Additionally, we also use .mode() to impute the most occuring value in columns such as 'diagnosis_code, and 'patient_zip'.\n",
    "\n",
    "NOTE: Handling the values in this step, assuming which could be used in the model."
   ]
  },
  {
   "cell_type": "code",
   "execution_count": 127,
   "id": "914d0a52-6296-4424-850e-19012755729a",
   "metadata": {},
   "outputs": [
    {
     "data": {
      "text/plain": [
       "642"
      ]
     },
     "execution_count": 127,
     "metadata": {},
     "output_type": "execute_result"
    }
   ],
   "source": [
    "# Checking the length of pcn, if the variable can be dropped or not\n",
    "# Since, there are 642 unique values, the variable can be dropped\n",
    "len(scriptsFile['pcn'].unique())"
   ]
  },
  {
   "cell_type": "code",
   "execution_count": 131,
   "id": "86f571ea-7732-4ebb-9512-0db5080c7b17",
   "metadata": {
    "scrolled": true
   },
   "outputs": [
    {
     "name": "stdout",
     "output_type": "stream",
     "text": [
      "journey_id                            0\n",
      "cohort_id                             0\n",
      "claim_id                              0\n",
      "patient_gender                        0\n",
      "patient_state                         0\n",
      "patient_zip                           0\n",
      "patient_dob                           0\n",
      "pharmacy_npi                      53272\n",
      "pharmacist_npi                   754405\n",
      "prescriber_npi                     3183\n",
      "primary_care_npi                 772154\n",
      "group_id                         505246\n",
      "date_of_service                       0\n",
      "date_authorized                       0\n",
      "transaction_type                      0\n",
      "date_prescription_written             0\n",
      "ndc11                                 0\n",
      "ndc11_original                   682725\n",
      "number_of_refills_authorized          0\n",
      "diagnosis_code                        0\n",
      "diagnosis_code_type                   0\n",
      "quantity_prescribed_original          0\n",
      "quantity_dispensed                    0\n",
      "place_of_service                 432697\n",
      "is_service                       108453\n",
      "level_of_service                 665613\n",
      "fill_number                           0\n",
      "days_supply                           0\n",
      "unit_of_measure                       0\n",
      "daw_code                         690357\n",
      "prior_authorization_type_code    766973\n",
      "is_compound_drug                 108535\n",
      "coupon_type                      775703\n",
      "coupon_value_amount              775698\n",
      "pharmacy_submitted_cost               0\n",
      "patient_pay                           0\n",
      "copay_coinsurance                475740\n",
      "pcn                                   0\n",
      "bin                                   0\n",
      "plan_pay                         291066\n",
      "reject_code_1                    592251\n",
      "reject_code_3                    734651\n",
      "reject_code_4                    768356\n",
      "reject_code_5                    774192\n",
      "ndc                                   0\n",
      "active                                0\n",
      "start_date                            0\n",
      "end_date                         747188\n",
      "dtype: int64\n"
     ]
    }
   ],
   "source": [
    "# Converting type string to datetime format\n",
    "scriptsFile['date_authorized'] = pd.to_datetime(scriptsFile['date_authorized'])\n",
    "scriptsFile['patient_dob'] = pd.to_datetime(scriptsFile['patient_dob'])\n",
    "\n",
    "# Dropping rows for missing values \n",
    "scriptsFile = scriptsFile.dropna(subset=['pcn'])\n",
    "\n",
    "# Substituting ndc11 null values with 0\n",
    "scriptsFile['ndc11'].fillna(0, inplace=True)\n",
    "\n",
    "# Substituing mode values for the given columns\n",
    "scriptsFile['patient_zip'].fillna(scriptsFile['patient_zip'].mode()[0], inplace=True)\n",
    "scriptsFile['diagnosis_code'].fillna(scriptsFile['diagnosis_code'].mode()[0], inplace=True)\n",
    "scriptsFile['diagnosis_code_type'].fillna(scriptsFile['diagnosis_code_type'].mode()[0], inplace=True)\n",
    "scriptsFile['unit_of_measure'].fillna(scriptsFile['unit_of_measure'].mode()[0], inplace=True)\n",
    "\n",
    "# Substituing median values for the given columns\n",
    "scriptsFile['patient_dob'].fillna(scriptsFile['patient_dob'].median(), inplace=True)\n",
    "scriptsFile['date_authorized'].fillna(scriptsFile['date_authorized'].median(), inplace=True)\n",
    "\n",
    "\n",
    "# Substituing mean values for the given columns\n",
    "scriptsFile['quantity_prescribed_original'].fillna(scriptsFile['quantity_prescribed_original'].mean(), inplace=True)\n",
    "scriptsFile['quantity_dispensed'].fillna(scriptsFile['quantity_dispensed'].mean(), inplace=True)\n",
    "scriptsFile['number_of_refills_authorized'].fillna(scriptsFile['number_of_refills_authorized'].mean(), inplace=True)\n",
    "scriptsFile['patient_pay'].fillna(scriptsFile['patient_pay'].mean(), inplace=True)\n",
    "scriptsFile['pharmacy_submitted_cost'].fillna(scriptsFile['pharmacy_submitted_cost'].mean(), inplace=True)\n",
    "\n",
    "\n",
    "# Checking values for imputation                                \n",
    "print(scriptsFile.isnull().sum())"
   ]
  },
  {
   "cell_type": "code",
   "execution_count": 132,
   "id": "e077b11e-eb3d-42af-92fd-7696b17bd497",
   "metadata": {},
   "outputs": [
    {
     "name": "stdout",
     "output_type": "stream",
     "text": [
      "32494\n",
      "14592\n"
     ]
    }
   ],
   "source": [
    "# Checking the length of hcp_npi_list, hco_npi_list, if the variable can be dropped or not. Since, the unique values are large, it does not make sense to impute data\n",
    "print(len(medicalFile['hcp_npi_list'].unique()))\n",
    "print(len(medicalFile['hco_npi_list'].unique()))"
   ]
  },
  {
   "cell_type": "code",
   "execution_count": 133,
   "id": "06a9685f-6634-4153-b652-ef4b838d3c4a",
   "metadata": {
    "scrolled": true
   },
   "outputs": [
    {
     "name": "stdout",
     "output_type": "stream",
     "text": [
      "journey_id                0\n",
      "episode_id                0\n",
      "visit_id                746\n",
      "encounter_id              0\n",
      "claim_date                0\n",
      "patient_state             0\n",
      "patient_short_zip         0\n",
      "patient_age               0\n",
      "patient_gender            0\n",
      "place_of_service     119896\n",
      "visit_type                0\n",
      "payor                  9647\n",
      "payor_channel         26192\n",
      "ref_npi              239443\n",
      "hcp_npi                   0\n",
      "hcp_taxonomy           5616\n",
      "hcp_specialty          5596\n",
      "hco_npi                   0\n",
      "hcp_npi_list              0\n",
      "hco_npi_list              0\n",
      "diag_list               459\n",
      "diag_1                  459\n",
      "diag_2                89770\n",
      "diag_3               155066\n",
      "diag_4               199916\n",
      "diag_5               251600\n",
      "rev_center_code      330424\n",
      "rev_center_units        839\n",
      "proc_code             20672\n",
      "proc_modifier        302809\n",
      "proc_units              638\n",
      "line_charge               0\n",
      "claim_charge              0\n",
      "smart_allowed             0\n",
      "dtype: int64\n"
     ]
    }
   ],
   "source": [
    "# Dropping rows for missing values \n",
    "medicalFile = medicalFile.dropna(subset=['hcp_npi_list'])\n",
    "medicalFile = medicalFile.dropna(subset=['hco_npi_list'])\n",
    "\n",
    "# Substituing mode values for the given columns\n",
    "medicalFile['patient_gender'].fillna(medicalFile['patient_gender'].mode()[0], inplace=True)\n",
    "medicalFile['patient_short_zip'].fillna(medicalFile['patient_short_zip'].mode()[0], inplace=True)\n",
    "medicalFile['visit_type'].fillna(medicalFile['visit_type'].mode()[0], inplace=True)\n",
    "\n",
    "\n",
    "# Substituing mean values for the given columns\n",
    "medicalFile['patient_age'].fillna(medicalFile['patient_age'].mean(), inplace=True)\n",
    "\n",
    "# Checking values for imputation                                \n",
    "print(medicalFile.isnull().sum())"
   ]
  },
  {
   "cell_type": "markdown",
   "id": "368029a5-d907-41a3-8a7e-d84950d7294a",
   "metadata": {},
   "source": [
    "### ENCODING CATEGORICAL VARIABLES\n",
    "\n",
    "The categorical variables are converted into dummy variables, marked 0 or 1. One Hot Encoding with get_dummies() is used to dummy the column diagnosis. drop_first flag helps us avoid multicollinearity. The dummy is then stored in new data frame 'scriptsFile' and 'medicalFile' respectively. The function np.where() is used to substitute numerical value '1' with Flag True and '0' with False.\n",
    "\n",
    "**SCRIPTS FILE:**"
   ]
  },
  {
   "cell_type": "code",
   "execution_count": 134,
   "id": "36355433-8219-495c-a894-0fedbdfae608",
   "metadata": {},
   "outputs": [],
   "source": [
    "# Encoding the categorical values for column 'patient_gender', using 'patient_state' as base reference and encoding \n",
    "scriptsFile = pd.get_dummies(scriptsFile, columns=['patient_gender'], drop_first = True)\n",
    "scriptsFile = pd.get_dummies(scriptsFile, columns=['patient_state'], drop_first = True)"
   ]
  },
  {
   "cell_type": "markdown",
   "id": "af4a6b78-c2b3-403c-ab99-09a92e25de46",
   "metadata": {},
   "source": [
    "**GROUPING WITH JOURNEY ID:**\n",
    "\n",
    "Since, the file contains duplicate journey ids, grouping them together and getting a count of multiple rows which is stored in 'no_of_visits' for prescription.\n",
    "The other duplicated rows are then removed with the function drop_duplicates(). Since, the rows are grouped resetting the index and displaying the first 10 rows."
   ]
  },
  {
   "cell_type": "code",
   "execution_count": 135,
   "id": "365da9a3-26e2-4a28-affd-deadfe53e491",
   "metadata": {},
   "outputs": [],
   "source": [
    "# Groupby() groups the data specified by the attribute and .transform() helps to count\n",
    "grouped_counts = scriptsFile.groupby('journey_id')['journey_id'].transform('count')\n",
    "scriptsFile['no_of_visits'] = grouped_counts\n",
    "scriptsFile = scriptsFile.drop_duplicates(subset='journey_id')\n"
   ]
  },
  {
   "cell_type": "code",
   "execution_count": 136,
   "id": "4180d77f-b5f1-40c8-bc8e-9a9cd883b37f",
   "metadata": {
    "scrolled": true
   },
   "outputs": [
    {
     "data": {
      "text/html": [
       "<div>\n",
       "<style scoped>\n",
       "    .dataframe tbody tr th:only-of-type {\n",
       "        vertical-align: middle;\n",
       "    }\n",
       "\n",
       "    .dataframe tbody tr th {\n",
       "        vertical-align: top;\n",
       "    }\n",
       "\n",
       "    .dataframe thead th {\n",
       "        text-align: right;\n",
       "    }\n",
       "</style>\n",
       "<table border=\"1\" class=\"dataframe\">\n",
       "  <thead>\n",
       "    <tr style=\"text-align: right;\">\n",
       "      <th></th>\n",
       "      <th>journey_id</th>\n",
       "      <th>cohort_id</th>\n",
       "      <th>claim_id</th>\n",
       "      <th>patient_zip</th>\n",
       "      <th>patient_dob</th>\n",
       "      <th>pharmacy_npi</th>\n",
       "      <th>pharmacist_npi</th>\n",
       "      <th>prescriber_npi</th>\n",
       "      <th>primary_care_npi</th>\n",
       "      <th>group_id</th>\n",
       "      <th>...</th>\n",
       "      <th>ndc</th>\n",
       "      <th>active</th>\n",
       "      <th>start_date</th>\n",
       "      <th>end_date</th>\n",
       "      <th>patient_gender_M</th>\n",
       "      <th>patient_state_FL</th>\n",
       "      <th>patient_state_IL</th>\n",
       "      <th>patient_state_NY</th>\n",
       "      <th>patient_state_TX</th>\n",
       "      <th>no_of_visits</th>\n",
       "    </tr>\n",
       "  </thead>\n",
       "  <tbody>\n",
       "    <tr>\n",
       "      <th>0</th>\n",
       "      <td>00006390c96ebfffed580074c35a16a7</td>\n",
       "      <td>16</td>\n",
       "      <td>60618bd8d37311da702bf9349e76f8c26d515c082e136f...</td>\n",
       "      <td>922.0</td>\n",
       "      <td>1961-01-01</td>\n",
       "      <td>1.215361e+09</td>\n",
       "      <td>NaN</td>\n",
       "      <td>1750479168</td>\n",
       "      <td>NaN</td>\n",
       "      <td>NaN</td>\n",
       "      <td>...</td>\n",
       "      <td>47335067381</td>\n",
       "      <td>True</td>\n",
       "      <td>190001</td>\n",
       "      <td>NaN</td>\n",
       "      <td>True</td>\n",
       "      <td>False</td>\n",
       "      <td>False</td>\n",
       "      <td>False</td>\n",
       "      <td>False</td>\n",
       "      <td>28</td>\n",
       "    </tr>\n",
       "    <tr>\n",
       "      <th>1</th>\n",
       "      <td>000072bc05e31d0126475c7a3e771af1</td>\n",
       "      <td>16</td>\n",
       "      <td>39305dcc71e6d6cdcfc627395892c57544305c2a0b9d4b...</td>\n",
       "      <td>921.0</td>\n",
       "      <td>1968-01-01</td>\n",
       "      <td>NaN</td>\n",
       "      <td>NaN</td>\n",
       "      <td>1952412181</td>\n",
       "      <td>NaN</td>\n",
       "      <td>NaN</td>\n",
       "      <td>...</td>\n",
       "      <td>16714018301</td>\n",
       "      <td>True</td>\n",
       "      <td>190001</td>\n",
       "      <td>NaN</td>\n",
       "      <td>True</td>\n",
       "      <td>False</td>\n",
       "      <td>False</td>\n",
       "      <td>False</td>\n",
       "      <td>False</td>\n",
       "      <td>67</td>\n",
       "    </tr>\n",
       "    <tr>\n",
       "      <th>2</th>\n",
       "      <td>0002af1d15822206675ddbf0242017e6</td>\n",
       "      <td>16</td>\n",
       "      <td>77b9f1e0c63f451dc2c2f269d1b15fb5c0c9a8a8ab3e5f...</td>\n",
       "      <td>913.0</td>\n",
       "      <td>1978-01-01</td>\n",
       "      <td>1.790700e+09</td>\n",
       "      <td>NaN</td>\n",
       "      <td>1518996974</td>\n",
       "      <td>NaN</td>\n",
       "      <td>fd27e02ca7e589c323064909a00c1a94bdca1776</td>\n",
       "      <td>...</td>\n",
       "      <td>68645053254</td>\n",
       "      <td>True</td>\n",
       "      <td>190001</td>\n",
       "      <td>NaN</td>\n",
       "      <td>True</td>\n",
       "      <td>False</td>\n",
       "      <td>False</td>\n",
       "      <td>False</td>\n",
       "      <td>False</td>\n",
       "      <td>79</td>\n",
       "    </tr>\n",
       "    <tr>\n",
       "      <th>3</th>\n",
       "      <td>0003ff8dd03803a9197ed01075f4b094</td>\n",
       "      <td>16</td>\n",
       "      <td>50c57a53eea99e567743547578b2fd808f15095111cf08...</td>\n",
       "      <td>922.0</td>\n",
       "      <td>1959-01-01</td>\n",
       "      <td>1.649295e+09</td>\n",
       "      <td>NaN</td>\n",
       "      <td>1962801902</td>\n",
       "      <td>NaN</td>\n",
       "      <td>187fbdac6d15346703bf497ea5358686a8a18650</td>\n",
       "      <td>...</td>\n",
       "      <td>45802005935</td>\n",
       "      <td>True</td>\n",
       "      <td>190001</td>\n",
       "      <td>NaN</td>\n",
       "      <td>False</td>\n",
       "      <td>False</td>\n",
       "      <td>False</td>\n",
       "      <td>False</td>\n",
       "      <td>False</td>\n",
       "      <td>264</td>\n",
       "    </tr>\n",
       "    <tr>\n",
       "      <th>4</th>\n",
       "      <td>0004029899177171c9851df0a5916b02</td>\n",
       "      <td>16</td>\n",
       "      <td>fccd79b0c2e09583eca84fbf35b58a40c4c82a88f4036f...</td>\n",
       "      <td>900.0</td>\n",
       "      <td>1958-01-01</td>\n",
       "      <td>1.629438e+09</td>\n",
       "      <td>NaN</td>\n",
       "      <td>1639279417</td>\n",
       "      <td>NaN</td>\n",
       "      <td>NaN</td>\n",
       "      <td>...</td>\n",
       "      <td>80777028299</td>\n",
       "      <td>True</td>\n",
       "      <td>190001</td>\n",
       "      <td>NaN</td>\n",
       "      <td>True</td>\n",
       "      <td>False</td>\n",
       "      <td>False</td>\n",
       "      <td>False</td>\n",
       "      <td>False</td>\n",
       "      <td>1</td>\n",
       "    </tr>\n",
       "    <tr>\n",
       "      <th>5</th>\n",
       "      <td>0004bed2670fd243392dc3a994da3f8a</td>\n",
       "      <td>16</td>\n",
       "      <td>4a6cc193db963df77b222d788379c4ec6c77c3b172ea65...</td>\n",
       "      <td>911.0</td>\n",
       "      <td>1970-01-01</td>\n",
       "      <td>1.720093e+09</td>\n",
       "      <td>NaN</td>\n",
       "      <td>1538188149</td>\n",
       "      <td>NaN</td>\n",
       "      <td>NaN</td>\n",
       "      <td>...</td>\n",
       "      <td>781261305</td>\n",
       "      <td>True</td>\n",
       "      <td>190001</td>\n",
       "      <td>NaN</td>\n",
       "      <td>True</td>\n",
       "      <td>False</td>\n",
       "      <td>False</td>\n",
       "      <td>False</td>\n",
       "      <td>False</td>\n",
       "      <td>1</td>\n",
       "    </tr>\n",
       "    <tr>\n",
       "      <th>6</th>\n",
       "      <td>0004da06b6b88eb1375e7a772a1d3162</td>\n",
       "      <td>16</td>\n",
       "      <td>08a969330a5cacebcbd291f3cdff27191c27914365275b...</td>\n",
       "      <td>900.0</td>\n",
       "      <td>1963-01-01</td>\n",
       "      <td>1.780793e+09</td>\n",
       "      <td>NaN</td>\n",
       "      <td>1003073826</td>\n",
       "      <td>NaN</td>\n",
       "      <td>cbc7b2c978adb056eecb757516e714982d70e121</td>\n",
       "      <td>...</td>\n",
       "      <td>31722070290</td>\n",
       "      <td>True</td>\n",
       "      <td>190001</td>\n",
       "      <td>NaN</td>\n",
       "      <td>True</td>\n",
       "      <td>False</td>\n",
       "      <td>False</td>\n",
       "      <td>False</td>\n",
       "      <td>False</td>\n",
       "      <td>71</td>\n",
       "    </tr>\n",
       "    <tr>\n",
       "      <th>7</th>\n",
       "      <td>00056d0b79fda876cae788d6920c902a</td>\n",
       "      <td>17</td>\n",
       "      <td>c5a73033411f411a247d18863ae14170925718b70b5935...</td>\n",
       "      <td>112.0</td>\n",
       "      <td>1955-01-01</td>\n",
       "      <td>1.871697e+09</td>\n",
       "      <td>1.982928e+09</td>\n",
       "      <td>1568498590</td>\n",
       "      <td>NaN</td>\n",
       "      <td>NaN</td>\n",
       "      <td>...</td>\n",
       "      <td>47781065410</td>\n",
       "      <td>True</td>\n",
       "      <td>190001</td>\n",
       "      <td>NaN</td>\n",
       "      <td>False</td>\n",
       "      <td>False</td>\n",
       "      <td>False</td>\n",
       "      <td>True</td>\n",
       "      <td>False</td>\n",
       "      <td>421</td>\n",
       "    </tr>\n",
       "    <tr>\n",
       "      <th>8</th>\n",
       "      <td>00056d978dce9b6f87ee68765b0f5cb2</td>\n",
       "      <td>16</td>\n",
       "      <td>495455809290a448cd2b5c9df09a7fedb9c5c47950c3dd...</td>\n",
       "      <td>912.0</td>\n",
       "      <td>1954-01-01</td>\n",
       "      <td>1.538109e+09</td>\n",
       "      <td>NaN</td>\n",
       "      <td>1699738047</td>\n",
       "      <td>NaN</td>\n",
       "      <td>95808c01a7ca6449ab0bb5adc32c22b578b86a0b</td>\n",
       "      <td>...</td>\n",
       "      <td>65162010150</td>\n",
       "      <td>True</td>\n",
       "      <td>190001</td>\n",
       "      <td>NaN</td>\n",
       "      <td>False</td>\n",
       "      <td>False</td>\n",
       "      <td>False</td>\n",
       "      <td>False</td>\n",
       "      <td>False</td>\n",
       "      <td>72</td>\n",
       "    </tr>\n",
       "    <tr>\n",
       "      <th>9</th>\n",
       "      <td>000611c33bf684a7fec8eb5bf8ef2c80</td>\n",
       "      <td>16</td>\n",
       "      <td>b8516e5e51991d04c94b3f711b2f27d23c4549ca4a25d7...</td>\n",
       "      <td>922.0</td>\n",
       "      <td>1970-01-01</td>\n",
       "      <td>1.609986e+09</td>\n",
       "      <td>NaN</td>\n",
       "      <td>1689693517</td>\n",
       "      <td>NaN</td>\n",
       "      <td>3a9ae138e2308e5f2138c6e09b74169d60d470da</td>\n",
       "      <td>...</td>\n",
       "      <td>169413212</td>\n",
       "      <td>True</td>\n",
       "      <td>190001</td>\n",
       "      <td>NaN</td>\n",
       "      <td>False</td>\n",
       "      <td>False</td>\n",
       "      <td>False</td>\n",
       "      <td>False</td>\n",
       "      <td>False</td>\n",
       "      <td>9</td>\n",
       "    </tr>\n",
       "  </tbody>\n",
       "</table>\n",
       "<p>10 rows × 52 columns</p>\n",
       "</div>"
      ],
      "text/plain": [
       "                         journey_id  cohort_id  \\\n",
       "0  00006390c96ebfffed580074c35a16a7         16   \n",
       "1  000072bc05e31d0126475c7a3e771af1         16   \n",
       "2  0002af1d15822206675ddbf0242017e6         16   \n",
       "3  0003ff8dd03803a9197ed01075f4b094         16   \n",
       "4  0004029899177171c9851df0a5916b02         16   \n",
       "5  0004bed2670fd243392dc3a994da3f8a         16   \n",
       "6  0004da06b6b88eb1375e7a772a1d3162         16   \n",
       "7  00056d0b79fda876cae788d6920c902a         17   \n",
       "8  00056d978dce9b6f87ee68765b0f5cb2         16   \n",
       "9  000611c33bf684a7fec8eb5bf8ef2c80         16   \n",
       "\n",
       "                                            claim_id  patient_zip patient_dob  \\\n",
       "0  60618bd8d37311da702bf9349e76f8c26d515c082e136f...        922.0  1961-01-01   \n",
       "1  39305dcc71e6d6cdcfc627395892c57544305c2a0b9d4b...        921.0  1968-01-01   \n",
       "2  77b9f1e0c63f451dc2c2f269d1b15fb5c0c9a8a8ab3e5f...        913.0  1978-01-01   \n",
       "3  50c57a53eea99e567743547578b2fd808f15095111cf08...        922.0  1959-01-01   \n",
       "4  fccd79b0c2e09583eca84fbf35b58a40c4c82a88f4036f...        900.0  1958-01-01   \n",
       "5  4a6cc193db963df77b222d788379c4ec6c77c3b172ea65...        911.0  1970-01-01   \n",
       "6  08a969330a5cacebcbd291f3cdff27191c27914365275b...        900.0  1963-01-01   \n",
       "7  c5a73033411f411a247d18863ae14170925718b70b5935...        112.0  1955-01-01   \n",
       "8  495455809290a448cd2b5c9df09a7fedb9c5c47950c3dd...        912.0  1954-01-01   \n",
       "9  b8516e5e51991d04c94b3f711b2f27d23c4549ca4a25d7...        922.0  1970-01-01   \n",
       "\n",
       "   pharmacy_npi  pharmacist_npi prescriber_npi primary_care_npi  \\\n",
       "0  1.215361e+09             NaN     1750479168              NaN   \n",
       "1           NaN             NaN     1952412181              NaN   \n",
       "2  1.790700e+09             NaN     1518996974              NaN   \n",
       "3  1.649295e+09             NaN     1962801902              NaN   \n",
       "4  1.629438e+09             NaN     1639279417              NaN   \n",
       "5  1.720093e+09             NaN     1538188149              NaN   \n",
       "6  1.780793e+09             NaN     1003073826              NaN   \n",
       "7  1.871697e+09    1.982928e+09     1568498590              NaN   \n",
       "8  1.538109e+09             NaN     1699738047              NaN   \n",
       "9  1.609986e+09             NaN     1689693517              NaN   \n",
       "\n",
       "                                   group_id  ...          ndc active  \\\n",
       "0                                       NaN  ...  47335067381   True   \n",
       "1                                       NaN  ...  16714018301   True   \n",
       "2  fd27e02ca7e589c323064909a00c1a94bdca1776  ...  68645053254   True   \n",
       "3  187fbdac6d15346703bf497ea5358686a8a18650  ...  45802005935   True   \n",
       "4                                       NaN  ...  80777028299   True   \n",
       "5                                       NaN  ...    781261305   True   \n",
       "6  cbc7b2c978adb056eecb757516e714982d70e121  ...  31722070290   True   \n",
       "7                                       NaN  ...  47781065410   True   \n",
       "8  95808c01a7ca6449ab0bb5adc32c22b578b86a0b  ...  65162010150   True   \n",
       "9  3a9ae138e2308e5f2138c6e09b74169d60d470da  ...    169413212   True   \n",
       "\n",
       "  start_date end_date  patient_gender_M  patient_state_FL  patient_state_IL  \\\n",
       "0     190001      NaN              True             False             False   \n",
       "1     190001      NaN              True             False             False   \n",
       "2     190001      NaN              True             False             False   \n",
       "3     190001      NaN             False             False             False   \n",
       "4     190001      NaN              True             False             False   \n",
       "5     190001      NaN              True             False             False   \n",
       "6     190001      NaN              True             False             False   \n",
       "7     190001      NaN             False             False             False   \n",
       "8     190001      NaN             False             False             False   \n",
       "9     190001      NaN             False             False             False   \n",
       "\n",
       "  patient_state_NY  patient_state_TX  no_of_visits  \n",
       "0            False             False            28  \n",
       "1            False             False            67  \n",
       "2            False             False            79  \n",
       "3            False             False           264  \n",
       "4            False             False             1  \n",
       "5            False             False             1  \n",
       "6            False             False            71  \n",
       "7             True             False           421  \n",
       "8            False             False            72  \n",
       "9            False             False             9  \n",
       "\n",
       "[10 rows x 52 columns]"
      ]
     },
     "execution_count": 136,
     "metadata": {},
     "output_type": "execute_result"
    }
   ],
   "source": [
    "scriptsFile.reset_index(drop=True, inplace=True)\n",
    "scriptsFile.head(10)"
   ]
  },
  {
   "cell_type": "markdown",
   "id": "5452df61-31b5-40e5-826a-1de475b746ae",
   "metadata": {},
   "source": [
    "**CREATING TREATMENT VARIABLE:**\n",
    "To identify the treatment variable, J code is filterd and the ids are stored in a list. The variable is then marked as 1 where the code is present and as 0, where it is not. This creates a dummy variable named 'ozempicVariable', which would be used in the model."
   ]
  },
  {
   "cell_type": "code",
   "execution_count": 137,
   "id": "2a2fb0a7-a846-462c-ae2b-8acb1698becc",
   "metadata": {},
   "outputs": [
    {
     "data": {
      "text/plain": [
       "['000450be3d71b0ec84e8e6edf40aadfa',\n",
       " '000f72e2fe46f4f45744f3a7f64894ce',\n",
       " '0012fd7f7c19414e99dd240c9b4b1952',\n",
       " '00261b40936d4e0cf4c4de7b04fcf250',\n",
       " '003bbf4fc6d2b11f48cea923c85172b5',\n",
       " '004d43982ab0a95c30b06cae62471978',\n",
       " '005947d5f4f8db86b31e99372c93f549',\n",
       " '006d954a77c9fea4a77d46a5c4abc471',\n",
       " '00929d599d8fdd0ce6981a79c0f6c7cb',\n",
       " '00dc1b28e10465a43a3e59e11cfe2f35',\n",
       " '00e5bbce9d86b3f93fc14423e8ff978a',\n",
       " '00eda43172015ee0700a12f0347993da',\n",
       " '010e43cba14ea806bc28f5d238a26eeb',\n",
       " '011a5dbefc8f65e48d2d7ce000076550',\n",
       " '0128807972e84c204f15d229ae7906d3',\n",
       " '016a701e8914646f6088c3b6fdcb5f2e',\n",
       " '01723fa5b9726322d48832b79dd099f3',\n",
       " '0183111d2ff6fe9f34291fec69142950',\n",
       " '0186ae0093ae371fc7a235036cda732b',\n",
       " '01c0e8f8f89a203899fceba1102667c5',\n",
       " '01c38a89e3a9cfecb2cd6916d74668cb',\n",
       " '01d9b65ff50b3467f1838bb5f98d672b',\n",
       " '01d9fc88e4e9c10bcaf4c64dfc5d948f',\n",
       " '01e7c90639ae5cdf0a0c08b98ce64509',\n",
       " '02147934a42b1cab0296b24cc65dbec7',\n",
       " '0230078f2c52ce78c0d3ddba01889620',\n",
       " '023983e62b003534e483c713c5510da7',\n",
       " '025b3232e6866c486f7e3560d0abb6c6',\n",
       " '0261cef314dbf79eb575a2ff94b74a66',\n",
       " '026dc78c0bc4ae70fe027bd329e6bb90',\n",
       " '0271ab82efa14e00c8bdd1aea52b3ca3',\n",
       " '02829a109f2f747c58f7935d8f9bbd55',\n",
       " '02b39de071c86f96ac2784c81b5d1762',\n",
       " '02bddabf78a416a230ce9366f6e2295e',\n",
       " '02c891c5a6c6e0e26d9f71b87104646d',\n",
       " '02d40791cd953081b87d6eff32739480',\n",
       " '02dcb020dd58e91bb56121424d45ac7a',\n",
       " '02e98ea473dadce0a79ce2b658c1e9dd',\n",
       " '02ec96de4ea7ec715570e18479bac3fa',\n",
       " '02ecff767768bece55fc316368ba5ae6',\n",
       " '02eec98de060c199f240215263e65d8a',\n",
       " '0316422c43f6a397f0477e7a3e6e5fc8',\n",
       " '032d2b1fcce3e5c5e25b82143622ff26',\n",
       " '03571264eda855957d3758e019559051',\n",
       " '03575e135295f9997cadcaafb22a18b0',\n",
       " '03859811f01db452be1dd55f1e0fea92',\n",
       " '03a0d9f6d47e31f20fac2ae28a97842b',\n",
       " '03f4c2958e7b8464058f97c4ef4a901e',\n",
       " '03f6f7df959b9b904790ce37a9cebaa9',\n",
       " '04072896aa9048eaf8a574baa491318b',\n",
       " '0407692691ebd8f67ec25845d9bccda0',\n",
       " '040fff07d7fb7c369bbeb1735f9c8442',\n",
       " '0433d0bef41ce653aff94771400c3e20',\n",
       " '044b16c846976f76b072a0d9c75feeb0',\n",
       " '044fcc974f0afa2976edb4627a934e77',\n",
       " '04786b38697cb568b6e2cb65be73f9ac',\n",
       " '047b7170a8ef46ecdc8067432c1ab8dc',\n",
       " '047c77e47d44a6545c1c1f29e411c8eb',\n",
       " '048e4db76e2488d7656b96d280a2b19f',\n",
       " '049880e9e9ea3b5ed5d3e80338822b76',\n",
       " '04ac1136a07d5f37724f83a2c57e0c10',\n",
       " '04ea4cf940703343b0926ea015807515',\n",
       " '04fd2e1d5a531dc3f3b5bec64463abad',\n",
       " '053d3438b4b4ce34e9a0e83e9bb4fcaa',\n",
       " '054a668c14e98e68f7406109504b0adc',\n",
       " '0560a27546d7d882073f9763e62d22d8',\n",
       " '05657ff38089d5722a27431960be2c95',\n",
       " '05d4b513554f9db74cbb1b2979f9edd3',\n",
       " '05d6fb84078116c22494a5ffa4257716',\n",
       " '05db241a4ff2c3a4e4161bc2d1fd3692',\n",
       " '05e02f4d5db74abf1386e5b50f159b4d',\n",
       " '05f2914195714a1db903b979292008ea',\n",
       " '0601c854435352883f0e3e029aeac4dd',\n",
       " '0627e3155b23a5ea9848c6b78fb50be6',\n",
       " '06366af837ed08345b94be8ee8ed0ac0',\n",
       " '0674b8f483db936f62a6b7173d5d3838',\n",
       " '068eccbdb19cbb09072a267b44838c5c',\n",
       " '0690eba450081781b8e38fd0094be923',\n",
       " '06a733bf77d0d895ac38fb113fe2db7c',\n",
       " '06bdf12603d3d3ea96d1806346568ef7',\n",
       " '06ca00cddb9dae54967b6fb454dd0cf1',\n",
       " '071cacf5fbafb6afaa1accdabccee254',\n",
       " '07303f042a06a8c0e6d54b1546a81537',\n",
       " '07437dea8ed77d1d440091e63469cec0',\n",
       " '0759fd52f5641cf58b5e2af9499a4041',\n",
       " '075a980d9ef6cd2ff31b555cd459cbd1',\n",
       " '075f4d86e9f3c0a29d77de1c78864380',\n",
       " '07649eacf904bd261d0b5e4304a2b0ea',\n",
       " '07654e198503da9afbc2bf03a2d7392b',\n",
       " '07e0faaf81dfd8c8857b0e71eadbb3fb',\n",
       " '07e379e9efc4c314cc2c316c81649267',\n",
       " '07f1d93eea987c94dfaf0b03be18c8af',\n",
       " '07f32768c3ad18ce80f6d183e626a25c',\n",
       " '07f891e45c20268ce62aac0c5da361c9',\n",
       " '08051ff21f91341fa4d9a76f51ea8bb4',\n",
       " '082232355c98fa4f313c57f147c86c27',\n",
       " '084b5e12b3e4bafb2e4f431edc9f05fc',\n",
       " '087d621768b1a1264c0b15b7207a7629',\n",
       " '08a950f68b8d0980adc66f2624e62118',\n",
       " '08aee5aae153fa2cd98f84298931b93a',\n",
       " '08c2c98962f4ce516cf08315ed27898c',\n",
       " '08cd8d965812507e4894c04882100ecc',\n",
       " '08eb37230761a1643c03016d5763eb59',\n",
       " '09066faf17922881759498548aad2223',\n",
       " '0949a0bdf0db366f41c95c4bf5a10387',\n",
       " '095af5e13529488c785bb12162b73c8a',\n",
       " '097e35c490fed12befbf0c1bcdb1ad38',\n",
       " '09835263cea4e9930f20fdbe868b5185',\n",
       " '099268816cc87aabac3105c8aecb0e63',\n",
       " '099f248ba62c4bd47cffad0eb1a9c032',\n",
       " '09a0114746030fe12d5802196101f305',\n",
       " '09d360c0f2210856f21ae21a841e4eaa',\n",
       " '09df20b0b39410a5240e314909a0a3f1',\n",
       " '09ef007224aa8821e521f20162633645',\n",
       " '09fea2693911fec3ddd4a5a856e84c02',\n",
       " '0a1d965bc9f8541cfe53af0ea0746591',\n",
       " '0a31ca741ee103c7e8c5ca73105f4622',\n",
       " '0a49632147f65eedb92a3361c9db4e7f',\n",
       " '0a4ad18d2583512eb7093a759a2f5add',\n",
       " '0a748379682bd015ad8860842988d314',\n",
       " '0a82a6d08a969929a97e55f4efbe3893',\n",
       " '0a85ba1121cdeca4b0a8c35873232ecc',\n",
       " '0a942dacb7537f3abe053e5d475cc22b',\n",
       " '0a97d2869dbd9074530d9dc93491c087',\n",
       " '0a9f1b73cdd12c0ffbc7d966b6419b36',\n",
       " '0ab41a8a69a12498d5ef44ea7485d062',\n",
       " '0abcea946a985314f087577880ecc547',\n",
       " '0aeef3084b2b16ce6dda8285c49aaa6a',\n",
       " '0aefb8b0baed6b838f7cc836c41a0b92',\n",
       " '0b1f262089717c672525959c562693b6',\n",
       " '0b28ba7a8da88560e5eaf1f61debfd43',\n",
       " '0b46849ec3f9fbe654480c33e558d1cc',\n",
       " '0b46bade51c5cb27c05e28408407e668',\n",
       " '0b4ce7f958c5775398e97704298cdc1c',\n",
       " '0b6f91f540d3fdc907847ac5034297fd',\n",
       " '0b88b29ea0bbcec3b587caa34fd23021',\n",
       " '0b9fb08be3098e2046c5989bf14a0e83',\n",
       " '0bb491e886d319bec3212e25bb476adf',\n",
       " '0bb4fca220c12c22b3aa465ca2229765',\n",
       " '0bc2e8dce987c88b6d78dbfab7fcb593',\n",
       " '0bc4a5ed8a10f5d7d4734d862d6dceac',\n",
       " '0be730e174648d034769c607cdf92494',\n",
       " '0bfc5f26ddec8bc78449df133db1ae19',\n",
       " '0c044f22e93e8295c8cb645e0b8f1e86',\n",
       " '0c070d638d2aa8a2c7139727d045e01e',\n",
       " '0c164dfb4558e41f455319a4515c4dc6',\n",
       " '0c257ae84d5679dbdf3d4e6ce0886604',\n",
       " '0c4ad7fd0f345f7ca53c0e456739bb08',\n",
       " '0c6265cfa068fe32370eb5821ca4697b',\n",
       " '0c64bcdf88edba17eaa9a9f97c88f049',\n",
       " '0c73f9aaef01065083d1a7a55f81dec5',\n",
       " '0c793c375734c73587b5c53d3bf0dacf',\n",
       " '0c7e94786107be71d9d5d071ee28f170',\n",
       " '0c8341a066f6a266bf69212c1d1fb798',\n",
       " '0ca5137589b3502675b166ea75415f3c',\n",
       " '0cc8d057ec772c0fbd0778b18fe5eb1e',\n",
       " '0cd1e1ae92bdffb9bc3147742fe17cb9',\n",
       " '0cdaa4c3688b9f22d0ec578d748eafb8',\n",
       " '0cecaab5262c7ef5f77789de35d25f77',\n",
       " '0d05accd47e5883ec07022f3b1469a91',\n",
       " '0d073ac3c3eb408ea89e0e4f720733a0',\n",
       " '0d225835c2d79bf8e066a7a279644acb',\n",
       " '0d22591893ea2a58ab8e5f4e24aa6720',\n",
       " '0d3a5e6536fd3faf98e28b7eadea6c45',\n",
       " '0d3e1f9a2d3adc6e22b0a80bc545c13e',\n",
       " '0d46ba143388ab82b1df79f36268bf6a',\n",
       " '0d498416fcdf1d5e058721c8dd40f6c2',\n",
       " '0d593bea12e9a2af5711deb4607ad456',\n",
       " '0d5f4bbd1a97e8a5adba80f94cb33546',\n",
       " '0d7435e369a7ab80e741ee76dd723d9b',\n",
       " '0d84a17897f95da5317e2148c1ce4ed1',\n",
       " '0d9d41353579324c55d62c24fdfbe398',\n",
       " '0da45806ec28589907b33669664acc90',\n",
       " '0dc105aaf3fefd5dcac49c600f27afcb',\n",
       " '0dc53ea84c8d6b819b0e4d8c76d34f92',\n",
       " '0dcad681b5745184a23d9c38b4196466',\n",
       " '0dd9847a06861d6dad46fed495241ee8',\n",
       " '0ddbf0f418bee670d1db8256fddc72e0',\n",
       " '0de7f6ad2d0a854f37e7eae95a79567a',\n",
       " '0e080369e74729635a7102c321b6cd13',\n",
       " '0e16a52b222c9f0478eff5a35e40ed12',\n",
       " '0e4cfc1550750c3b6a3b4c2ca8d5b6bc',\n",
       " '0e541dab3c0fa12568e81679aab6988c',\n",
       " '0e6ff816285fdc732339044b638c800a',\n",
       " '0e95aa016def53cce1ab71481fc4dd51',\n",
       " '0e9871f59cbe42e9776d45cc5d492c13',\n",
       " '0e9d37ee079ce6caf99a2d56567d4947',\n",
       " '0ed93c2dfac0a12605fb432f324b0212',\n",
       " '0f019da72f3587c44ccd8916820aa354',\n",
       " '0f19172b9034b02c53a96efe6eefbd42',\n",
       " '0f1bf39051b52e206ba3f8846e887ad8',\n",
       " '0f1c9f0d4b05faefb04374caa90da8bb',\n",
       " '0f1e3985205d0cda564fd411e9f1c51a',\n",
       " '0f1e78d49e7e0d0d7dcd9a0a39a07933',\n",
       " '0f253c14a3920c849da5f40dd35779a9',\n",
       " '0f403ebda413bfd7e038759c9a78e7cc',\n",
       " '0f47faa09a56b4774e813f4b4ee91b5a',\n",
       " '0f4cb16b53189eb87a3502e79dc641ba',\n",
       " '0f5e7a4a9b7ad09d3c59e76af4282642',\n",
       " '0f7d80d0f0b0725a5dfb03bdb8334c25',\n",
       " '0fd6409c92594bc22be3b3202f5d8158',\n",
       " '103aa4b89f3b2ee2635b929a498c1386',\n",
       " '103c662b7913e50a253ea9a93bfa8a28',\n",
       " '107b33553664b74cdc202e51ac30ff53',\n",
       " '10858eb487963c83fb56eff59c03b155',\n",
       " '108b185af7f1fa476b4e6f9962663751',\n",
       " '10a711c307d4866a447c27617c5e0a95',\n",
       " '10af8913278bc7a26967c5c444c05b0e',\n",
       " '10c34f0f50453b9aa672fe994d4341b3',\n",
       " '10cbecbc77e77486e904e6e9839369b6',\n",
       " '10e06a738771d860a8f326153ce7422a',\n",
       " '10f282ae15e35596ecc636934f7b5016',\n",
       " '10f51d7e7193e5df661284035a02dba0',\n",
       " '10f6218f4cd4caf1548055fe4702778f',\n",
       " '110980fe7bac3a7a58c7999ae25f7eb7',\n",
       " '113115081434d63934f46edc5a0774a0',\n",
       " '115a0f11fc5c89d35d71e8a2e6ba8423',\n",
       " '115ed744325cd55cd4e76d04f2d9f7b4',\n",
       " '117c3b6020314dbea9a055a43488a2f8',\n",
       " '11d3794974dd555050bee6c58937fa7b',\n",
       " '11fa05159f6ff678a60e04ca9f95aea5',\n",
       " '120819382bc5e549592bf730826d3a9b',\n",
       " '1216deddb2c6b36b8a41935d104054f8',\n",
       " '127cf8fec9e112d2bbfd264c5585325d',\n",
       " '1283f4da2be1d51a225c2b362f8f21b3',\n",
       " '1294174d9eae6965858dbbcff6d17c7b',\n",
       " '129f5d1f32033d28cb459765cc7252f8',\n",
       " '12a67d63280e7283502e1fa13c0e0fcc',\n",
       " '12b658c47dd4612567e203992431061a',\n",
       " '12cb8a0a903ba5b498255381d9d51f4f',\n",
       " '12d7d412a9b58e790f956b414d65336e',\n",
       " '12e3bf485266c8e0faf9e8e31425ebf6',\n",
       " '12e6364c2dfcf9be38e28864750e65bf',\n",
       " '1304f543746a62134e584ba4976e9d3c',\n",
       " '130b215d130665e28ce035cb2ac0d9a2',\n",
       " '132a5ca32b6c2f4be1f9500d72b7a23d',\n",
       " '1338540a8d4a9ac475d07e6a2508147f',\n",
       " '134860868161c49fa6cf67d13d0bdf28',\n",
       " '134a019e93486436f9c27ae2e750cd8e',\n",
       " '1357c5ea44badee69683999b7e8a5441',\n",
       " '135bdd4a86a0214b27da845d18d7f23e',\n",
       " '1363f91ead1b518b68acb31a5d1b914c',\n",
       " '137ae7a30cdaf440c2a535b5a31fb41b',\n",
       " '138b5793f1c99aea5cdbbf3d9dceb37e',\n",
       " '138e26bdfe5c20ac29fa5adaa4b65b47',\n",
       " '13ac4a1dc902fe7c9d904e237b9743c2',\n",
       " '13b63d9d7df6629578f82c1dfe7430e9',\n",
       " '13b74d5f10104981e89692e35a552527',\n",
       " '13b7b882ea5c09b79748ef4a2cc5aa3d',\n",
       " '1408254da32ba0a7d6b065834e4121a7',\n",
       " '141e0bab50fee1c050e5dfcf3424c954',\n",
       " '145f1cd901f357cd34d5492ce29ab185',\n",
       " '14655b8b7f85a032ab212a1cfb6d0108',\n",
       " '1477a72751e448fb81b3a8f21996068c',\n",
       " '1479034fdc910b55251a2b122c0c61b7',\n",
       " '1486084fb2f534351e2d104f788e00ad',\n",
       " '148612d5eb689d57581d401a05d66e00',\n",
       " '14b5fedddf158066dfc25a9e7d8d2d38',\n",
       " '14c2cae9a3ae21c096e0ec2a91275a1e',\n",
       " '151311180a362ee37048bc3c0d513f33',\n",
       " '152b2ad3cbbdb90073c1cb95b224f8b7',\n",
       " '155305ff27f64027d05f3a0a54d2c8ba',\n",
       " '156b3aa8fad53baa1a65c50eb56518d8',\n",
       " '157bc2774da23f785cacb12dd049ce19',\n",
       " '15803325fc9713646a7cdcdeed9b5787',\n",
       " '1585e2c32fe8e1d471bd434c8f8c1da0',\n",
       " '15b598816aa5ea5bd4798d68600f54f6',\n",
       " '15b8a7a0af82d8119e4742f30e4a0d17',\n",
       " '15ed3a3fd552203273e10f81134469ed',\n",
       " '1601ac5bbbb13151b00b787d3a77ed84',\n",
       " '16041f62ad072900db80e6b1eb9f7512',\n",
       " '163e533a3da82df3438fd3c1ea7b540a',\n",
       " '1648cb73658bbeb8e648b11fa438d873',\n",
       " '164ab16673c5a99e57d60537e277a2b2',\n",
       " '164ae900b9d41e0ef4636ca4fbc13b9e',\n",
       " '1663e2e59b8923740e4e155f51ed692c',\n",
       " '166679745d32ac803da88a4b99aea0eb',\n",
       " '1675395ed8252469ad13a86d6a38e275',\n",
       " '168abb412a06a111c4b64bc6ac56571c',\n",
       " '169227b3007d61de8f4a67a6f2c2be9f',\n",
       " '16a803c69fc63bb25e4449d3fce7a4ea',\n",
       " '16bfa8b940969bee7d38ea73cf475e0c',\n",
       " '16c37c80e1d459593f856562f2560a5c',\n",
       " '16dc9e8609294efd148653f6f1dded6c',\n",
       " '16ec40b7071bd043af4baac71ed7ef89',\n",
       " '1713e27cdea01dbfa687fb6edb720deb',\n",
       " '172693c3cf5ea52f0dafc184ebb957f0',\n",
       " '173c04f04eaaa832ea113bb21d234c55',\n",
       " '17570293f5e37cc9258dbec6dbed50c5',\n",
       " '175b5ec18b6da4899ce52277674185a4',\n",
       " '176345f49aa11461e40a33b17de39a6c',\n",
       " '1764b7f67fcf67f5b4be1abe4a618999',\n",
       " '1772dabe7bd17e123681ea686a03efa7',\n",
       " '17809d8c41ba2e7a51b1e39e9cfe9643',\n",
       " '178f98ebc3bbf9cbf9484f809f6c1013',\n",
       " '179f5df9ac65499de881931aaa911490',\n",
       " '17a589fc295c7b98d27595a69201f84c',\n",
       " '17abb4f5c1956811f3848da3370654e4',\n",
       " '17b344966fc9e0135dccf1a4052e7271',\n",
       " '17c7cc529d2efed6fbec1cb3d293c55f',\n",
       " '17c8aa0ab2cd56a0e136e8aadd6f8271',\n",
       " '17e0ce9074a96e17ae17ddcd980bbf2e',\n",
       " '17e125f37ede02d2f54d3c4f9f8c04d5',\n",
       " '1808bb3ea2865bc5143fd36910d6bf9a',\n",
       " '180cdf8d9d56f46293c2069550fea1dc',\n",
       " '1815de631b1002b52c20744cd5d980df',\n",
       " '1817e63112827013bad355494259aaac',\n",
       " '181f12a508076a882c7ec49c9a2ae920',\n",
       " '184904fa24411cff5fb689055a85faf6',\n",
       " '1860844ff499da48fbae0b236229b3ab',\n",
       " '186ee99520e53a1036177263b2a10bcf',\n",
       " '188296d6359774889e25510672867ccf',\n",
       " '1888398c71265f7fc94a09f7d006e1f4',\n",
       " '18a5adf7346fbd30b02101daab73aa3e',\n",
       " '18b48b821ea741a47fc4f1e1ed5685d8',\n",
       " '18cb7e739870f23405bf9178c0d921eb',\n",
       " '18dcaff07221acd3a2ad5d2948886ae9',\n",
       " '19134b277ee1bf27f9e52a658758a4e3',\n",
       " '19255b3410ab34dbf668b9ce8a092a94',\n",
       " '192d1da8c29299580cbea40d2b94ccdd',\n",
       " '192ea86112afe689d18f1f92c8db2a62',\n",
       " '194a231db057183c8b9716b995a6bd3c',\n",
       " '195284c9ad5fe8c66e7e6a892ed861e0',\n",
       " '195f1eb78a6c7c6b66b60c1845bbb13f',\n",
       " '19629d782b5a2605b7fa64cc98aa6f2a',\n",
       " '19651e94714d2c2ac9791fc4021d59da',\n",
       " '1982f03002d8d60459243eb40a932990',\n",
       " '1990f9080665022890040783f8d7a72a',\n",
       " '1994f86385d03f5055981d4de7888a76',\n",
       " '19af28f2078ef3d9894d020d318c888c',\n",
       " '19b3332e5c91702ce2183d8571f4197f',\n",
       " '19b4be2e9f66504b0b9d82d86685fad7',\n",
       " '19bbabaa9708378424047a688f504f4f',\n",
       " '19e2e7bc33f389053793777244997f0e',\n",
       " '19ee53d135b19ced750ff2c8e7738b38',\n",
       " '1a089a14692f0db513c6c8c8422017da',\n",
       " '1a0dcabaee346ece7e0d82db2d1751ce',\n",
       " '1a0dd33105849a49c0e3b9175f4141a6',\n",
       " '1a1a2291bf4f6c60443e7927c6a53377',\n",
       " '1a1f0646a712b27bf67aad2462dd8174',\n",
       " '1a6ac648225b3ed04d9cca75feddd8f4',\n",
       " '1a7837803617f4ec2d8931240915cf8d',\n",
       " '1a796d84ecb824fb1f07db8ac2431418',\n",
       " '1a84d8eb29d1f51a3f4bd222bcb0f5a8',\n",
       " '1aae9ff4950dab0d9f67bf8182cfdfc5',\n",
       " '1b1b67b2553df049c8843a01a7c266c6',\n",
       " '1b2dbf52f5951cd207e90583f42e7451',\n",
       " '1b3314003c834e4c5df2ed59ff7f82e6',\n",
       " '1b3da8f92bd34221aa06ff2352a950dc',\n",
       " '1b513b7e75b1dd5b9e112bd7c819ab20',\n",
       " '1b994a73c380fcaaba6dcd0bbeadcbbd',\n",
       " '1b9e846286a475e618f8715828dcdbed',\n",
       " '1ba1814bc54bd4f188c02534817fa2e7',\n",
       " '1ba1bf477c00d9f420e380624dc5f0d1',\n",
       " '1bacf29350a4395ba38edee2bcc05790',\n",
       " '1bad2619cb98e5cc2f900b9995aece14',\n",
       " '1bcc17c92b23fe78240e28cf7542a271',\n",
       " '1bd70970a471c5e919622d2db35fcc69',\n",
       " '1bff81f28ee158379d825c9abc28a068',\n",
       " '1c186e0fdce3a186b7ba30c0254c9867',\n",
       " '1c500a7b02c6cbce78ad42ced5b605a4',\n",
       " '1c5d0c4584388ec43cded81a1dd4fd58',\n",
       " '1c61f0dfcf5f8ee41608eabfff3b4a24',\n",
       " '1c6b0cea8f6da86e7a0f155fb161ec3c',\n",
       " '1c6d3bd028a894e82800c87a60bb71f8',\n",
       " '1c81bb769b4f8d97649bda3a006ecc2d',\n",
       " '1c8bc9356096256da1f8a03fc53a6e69',\n",
       " '1cab66b7baf0454e0047816f78782e5c',\n",
       " '1cf3eb4257b2c82f654677eb76e16460',\n",
       " '1cf9dfad5350fc2325ad4454b8efbd9b',\n",
       " '1d028acbe9ff3d3e40eb4d245f9d6663',\n",
       " '1d155d67c6f3ed0db0b5a13c0ff0e8c4',\n",
       " '1d473da43685cc59e349986e7b85a156',\n",
       " '1d4e521f884d6b795969db3a229b417b',\n",
       " '1d7709c30da21d85588e2d6b8a8e5581',\n",
       " '1da750373a2cbc8fbe47d98f4a43ad04',\n",
       " '1db714d5cae08b8302241a73ee6f97ae',\n",
       " '1dbede3438a88135332ea36cb9d4e62e',\n",
       " '1dc10b6e6d86987781498bad7ef65905',\n",
       " '1dc49bdb8839053175c73eacbeaa2d05',\n",
       " '1de63e72d0e66d0fc3eaa402c346eca3',\n",
       " '1df14121f53fb494cc28a29182cb0ae9',\n",
       " '1e04fb2eb201de8631b66a93d7773abc',\n",
       " '1e3a2ff3078281ae226abd169e9e491c',\n",
       " '1e4f46a924d53ce751422e5d55171a00',\n",
       " '1e4fa0f1a4131bbdeb1766c2897cd1bf',\n",
       " '1e6a7634020faac301b4e2a5ab61d791',\n",
       " '1e71cb1bef985e2af64f2e4f4d0bc506',\n",
       " '1e746b62d3bbb1810b4d56418925ad9b',\n",
       " '1e9f418116ec4be8808dc22d82393c3b',\n",
       " '1ecf09e7f4df4c6da02bb27768ee3efb',\n",
       " '1f2cd7b53a27322a8cb27523437d06a4',\n",
       " '1f46510fe77327ce0b865aeb54d61403',\n",
       " '1f4e52b798b3ada5adb7f5d4b54f6955',\n",
       " '1f66915895875986774daadd36c74bb4',\n",
       " '1f6efd2a0ecd6e631ee8510eeebd9f8c',\n",
       " '1fbb3f138cd93c0396d9def424ef8dae',\n",
       " '1fe2a94e80c9a9a6644ff3ec8ff475af',\n",
       " '1fe8dd353c161c2cad372e18434f3517',\n",
       " '1ff8ff0a9c69c0d70e83a2061727c792']"
      ]
     },
     "execution_count": 137,
     "metadata": {},
     "output_type": "execute_result"
    }
   ],
   "source": [
    "ozempicIdentified = list(medicalFile['journey_id'][medicalFile['proc_code'] == 'J3490'].unique())\n",
    "ozempicIdentified"
   ]
  },
  {
   "cell_type": "markdown",
   "id": "01c99ff5-8b45-4a8f-95d5-e823b9867edb",
   "metadata": {},
   "source": [
    "**MEDICAL FILE:**\n",
    "\n",
    "Similarly encoding the categorical values to get dummys and grouping by based on journey id. The duplicate rows are then dropped and the count is stored as 'no_of_claim' for medical services rendered. "
   ]
  },
  {
   "cell_type": "code",
   "execution_count": 138,
   "id": "3dc3d9c1-5718-46fa-b36d-0c617a687a06",
   "metadata": {},
   "outputs": [],
   "source": [
    "# Encoding variables using get_dummies() and using drop_first to drop first encoded column, to get reference\n",
    "medicalFile = pd.get_dummies(medicalFile, columns=['patient_gender'], drop_first = True)\n",
    "medicalFile = pd.get_dummies(medicalFile, columns=['patient_state'], drop_first = True)\n",
    "medicalFile = pd.get_dummies(medicalFile, columns=['visit_type'], drop_first = True)\n",
    "medicalFile = pd.get_dummies(medicalFile, columns=['payor_channel'], drop_first = True)"
   ]
  },
  {
   "cell_type": "code",
   "execution_count": 139,
   "id": "70a2675f-3290-48fd-a44c-5a137893827d",
   "metadata": {},
   "outputs": [],
   "source": [
    "# Similarly, grouping duplicate journey ids, to avoid cross join and storing the count as medical claims, resetting the index further\n",
    "grouped_counts = medicalFile.groupby('journey_id')['journey_id'].transform('count')\n",
    "medicalFile['no_of_claim'] = grouped_counts\n",
    "medicalFile = medicalFile.drop_duplicates(subset='journey_id')"
   ]
  },
  {
   "cell_type": "code",
   "execution_count": 140,
   "id": "5d06e5cc-7b2e-4deb-a75b-7354c568049d",
   "metadata": {
    "scrolled": true
   },
   "outputs": [
    {
     "data": {
      "text/html": [
       "<div>\n",
       "<style scoped>\n",
       "    .dataframe tbody tr th:only-of-type {\n",
       "        vertical-align: middle;\n",
       "    }\n",
       "\n",
       "    .dataframe tbody tr th {\n",
       "        vertical-align: top;\n",
       "    }\n",
       "\n",
       "    .dataframe thead th {\n",
       "        text-align: right;\n",
       "    }\n",
       "</style>\n",
       "<table border=\"1\" class=\"dataframe\">\n",
       "  <thead>\n",
       "    <tr style=\"text-align: right;\">\n",
       "      <th></th>\n",
       "      <th>journey_id</th>\n",
       "      <th>episode_id</th>\n",
       "      <th>visit_id</th>\n",
       "      <th>encounter_id</th>\n",
       "      <th>claim_date</th>\n",
       "      <th>patient_short_zip</th>\n",
       "      <th>patient_age</th>\n",
       "      <th>place_of_service</th>\n",
       "      <th>payor</th>\n",
       "      <th>ref_npi</th>\n",
       "      <th>...</th>\n",
       "      <th>visit_type_outpatient visit</th>\n",
       "      <th>visit_type_pharmacy visit</th>\n",
       "      <th>payor_channel_managed medicaid</th>\n",
       "      <th>payor_channel_medicaid</th>\n",
       "      <th>payor_channel_medicare</th>\n",
       "      <th>payor_channel_medicare advantage</th>\n",
       "      <th>payor_channel_tricare</th>\n",
       "      <th>payor_channel_veterans affairs</th>\n",
       "      <th>payor_channel_workers comp</th>\n",
       "      <th>no_of_claim</th>\n",
       "    </tr>\n",
       "  </thead>\n",
       "  <tbody>\n",
       "    <tr>\n",
       "      <th>0</th>\n",
       "      <td>00006390c96ebfffed580074c35a16a7</td>\n",
       "      <td>e25e5285e4f66d35c9840bf4e040fe73</td>\n",
       "      <td>3f45ba8ebef02b0c09b09e864e57ba5ee9d6bc9acf1c39...</td>\n",
       "      <td>c60da949b58f0351c8781c062f65d92bce76d9532d1632...</td>\n",
       "      <td>2023-07-19</td>\n",
       "      <td>922.0</td>\n",
       "      <td>60.0</td>\n",
       "      <td>Office</td>\n",
       "      <td>inland empire health plan</td>\n",
       "      <td>1.619408e+09</td>\n",
       "      <td>...</td>\n",
       "      <td>True</td>\n",
       "      <td>False</td>\n",
       "      <td>False</td>\n",
       "      <td>False</td>\n",
       "      <td>False</td>\n",
       "      <td>False</td>\n",
       "      <td>False</td>\n",
       "      <td>False</td>\n",
       "      <td>False</td>\n",
       "      <td>2</td>\n",
       "    </tr>\n",
       "    <tr>\n",
       "      <th>1</th>\n",
       "      <td>00006d564a4718c744f1bbf1b6c5f8c3</td>\n",
       "      <td>cad5e8635fd011bfec2b65d161b15254</td>\n",
       "      <td>3b0f0f71ac05c34ab9307c4853f1af59420c07b522cdf2...</td>\n",
       "      <td>eafff3ebf33ebe534edc66e761d9b52d1381653d9d0d57...</td>\n",
       "      <td>2019-11-01</td>\n",
       "      <td>900.0</td>\n",
       "      <td>50.0</td>\n",
       "      <td>Office</td>\n",
       "      <td>centene corporation</td>\n",
       "      <td>1.619903e+09</td>\n",
       "      <td>...</td>\n",
       "      <td>True</td>\n",
       "      <td>False</td>\n",
       "      <td>False</td>\n",
       "      <td>False</td>\n",
       "      <td>False</td>\n",
       "      <td>False</td>\n",
       "      <td>False</td>\n",
       "      <td>False</td>\n",
       "      <td>False</td>\n",
       "      <td>14</td>\n",
       "    </tr>\n",
       "    <tr>\n",
       "      <th>2</th>\n",
       "      <td>000072bc05e31d0126475c7a3e771af1</td>\n",
       "      <td>4d648af34c9a5da09e9bf2c9fed7263d</td>\n",
       "      <td>8b53ffacbf985d68cbf2aa8e6a9e63a3662c4eddfef1d5...</td>\n",
       "      <td>2e44e65bde3c9e9b568c6b82d41ff50c1c5ba7300d845b...</td>\n",
       "      <td>2023-02-03</td>\n",
       "      <td>921.0</td>\n",
       "      <td>55.0</td>\n",
       "      <td>Office</td>\n",
       "      <td>blue shield of california</td>\n",
       "      <td>1.952412e+09</td>\n",
       "      <td>...</td>\n",
       "      <td>True</td>\n",
       "      <td>False</td>\n",
       "      <td>False</td>\n",
       "      <td>False</td>\n",
       "      <td>False</td>\n",
       "      <td>False</td>\n",
       "      <td>False</td>\n",
       "      <td>False</td>\n",
       "      <td>False</td>\n",
       "      <td>2</td>\n",
       "    </tr>\n",
       "    <tr>\n",
       "      <th>3</th>\n",
       "      <td>00011020325337a2a22fb26b6492196a</td>\n",
       "      <td>b2c64ae3446f18774940259e7f096541</td>\n",
       "      <td>f6652668408a2ce31adfc1125e54151deba1e0e87ad62e...</td>\n",
       "      <td>896775ac2d7798435e2998d043058557bbe87bd441074a...</td>\n",
       "      <td>2023-01-03</td>\n",
       "      <td>922.0</td>\n",
       "      <td>75.0</td>\n",
       "      <td>Office</td>\n",
       "      <td>brand new day</td>\n",
       "      <td>1.366518e+09</td>\n",
       "      <td>...</td>\n",
       "      <td>True</td>\n",
       "      <td>False</td>\n",
       "      <td>False</td>\n",
       "      <td>False</td>\n",
       "      <td>False</td>\n",
       "      <td>False</td>\n",
       "      <td>False</td>\n",
       "      <td>False</td>\n",
       "      <td>False</td>\n",
       "      <td>47</td>\n",
       "    </tr>\n",
       "    <tr>\n",
       "      <th>4</th>\n",
       "      <td>00012bb21b3136f52c1c0774071f2ec2</td>\n",
       "      <td>7729a8e2d143a1a8117709cb82fbac56</td>\n",
       "      <td>88904135337a0a5c9ec430f561b82e4ee7f709b56da1d8...</td>\n",
       "      <td>cb11d1a829f2040a4eac3b1b9c7faa3fc7df14e1cee899...</td>\n",
       "      <td>2023-02-03</td>\n",
       "      <td>910.0</td>\n",
       "      <td>50.0</td>\n",
       "      <td>Office</td>\n",
       "      <td>NaN</td>\n",
       "      <td>NaN</td>\n",
       "      <td>...</td>\n",
       "      <td>True</td>\n",
       "      <td>False</td>\n",
       "      <td>False</td>\n",
       "      <td>False</td>\n",
       "      <td>False</td>\n",
       "      <td>False</td>\n",
       "      <td>False</td>\n",
       "      <td>False</td>\n",
       "      <td>False</td>\n",
       "      <td>1</td>\n",
       "    </tr>\n",
       "    <tr>\n",
       "      <th>5</th>\n",
       "      <td>00025243850b83969606f3f2aafc2d99</td>\n",
       "      <td>370ffbbbe53ed015f4da4b8b36835bf8</td>\n",
       "      <td>659fd72952b8a29848ce54c3c2c3fe6e486e08ae4b064b...</td>\n",
       "      <td>708501c5f87d9657427f3b363aa57fee4dba0b4f44bce9...</td>\n",
       "      <td>2022-01-04</td>\n",
       "      <td>910.0</td>\n",
       "      <td>70.0</td>\n",
       "      <td>Emergency Room - Hospital</td>\n",
       "      <td>blue shield of california</td>\n",
       "      <td>1.154948e+09</td>\n",
       "      <td>...</td>\n",
       "      <td>True</td>\n",
       "      <td>False</td>\n",
       "      <td>False</td>\n",
       "      <td>False</td>\n",
       "      <td>False</td>\n",
       "      <td>True</td>\n",
       "      <td>False</td>\n",
       "      <td>False</td>\n",
       "      <td>False</td>\n",
       "      <td>5</td>\n",
       "    </tr>\n",
       "    <tr>\n",
       "      <th>6</th>\n",
       "      <td>00028eaddd25f1151c94035997b5aab5</td>\n",
       "      <td>988053b794278da04d440d2d4f56ab08</td>\n",
       "      <td>e23698ce9926b91d56c7204646b1908bbe9b70b199ba17...</td>\n",
       "      <td>3eaa2500c931272d6013d48c82834e40e9bee80dc6ddad...</td>\n",
       "      <td>2022-04-18</td>\n",
       "      <td>900.0</td>\n",
       "      <td>70.0</td>\n",
       "      <td>Federally Qualified Health Center</td>\n",
       "      <td>blue shield of california</td>\n",
       "      <td>1.134533e+09</td>\n",
       "      <td>...</td>\n",
       "      <td>True</td>\n",
       "      <td>False</td>\n",
       "      <td>False</td>\n",
       "      <td>False</td>\n",
       "      <td>False</td>\n",
       "      <td>True</td>\n",
       "      <td>False</td>\n",
       "      <td>False</td>\n",
       "      <td>False</td>\n",
       "      <td>14</td>\n",
       "    </tr>\n",
       "    <tr>\n",
       "      <th>7</th>\n",
       "      <td>0002af1d15822206675ddbf0242017e6</td>\n",
       "      <td>d2d0d6d5757b5b16629a91c94b6a6459</td>\n",
       "      <td>89ac58e5328c9dee6d9ae04b734bd4565d695ee6a094cc...</td>\n",
       "      <td>1fb7d7cb78ee92073f74ed89c02a03facbc272620f930b...</td>\n",
       "      <td>2023-09-09</td>\n",
       "      <td>913.0</td>\n",
       "      <td>45.0</td>\n",
       "      <td>NaN</td>\n",
       "      <td>blue shield of california</td>\n",
       "      <td>NaN</td>\n",
       "      <td>...</td>\n",
       "      <td>True</td>\n",
       "      <td>False</td>\n",
       "      <td>False</td>\n",
       "      <td>False</td>\n",
       "      <td>False</td>\n",
       "      <td>False</td>\n",
       "      <td>False</td>\n",
       "      <td>False</td>\n",
       "      <td>False</td>\n",
       "      <td>7</td>\n",
       "    </tr>\n",
       "    <tr>\n",
       "      <th>8</th>\n",
       "      <td>000362c8cc869075f4c2b6533887d4aa</td>\n",
       "      <td>52ceb00e0607228759315e198b38cbc1</td>\n",
       "      <td>e6a7f37178fb5bcd65b6f4d3c9e633870e9219e9d64223...</td>\n",
       "      <td>b8e57d7b3a1a45938edaf4f2264fdfbe08e773792d384e...</td>\n",
       "      <td>2023-01-03</td>\n",
       "      <td>913.0</td>\n",
       "      <td>65.0</td>\n",
       "      <td>Office</td>\n",
       "      <td>blue shield of california</td>\n",
       "      <td>1.699753e+09</td>\n",
       "      <td>...</td>\n",
       "      <td>True</td>\n",
       "      <td>False</td>\n",
       "      <td>False</td>\n",
       "      <td>False</td>\n",
       "      <td>False</td>\n",
       "      <td>False</td>\n",
       "      <td>False</td>\n",
       "      <td>False</td>\n",
       "      <td>False</td>\n",
       "      <td>7</td>\n",
       "    </tr>\n",
       "    <tr>\n",
       "      <th>9</th>\n",
       "      <td>00036c1c0fa135d6cb066c204259bddf</td>\n",
       "      <td>884e0fbfc1801d5307f958f38afe4f9d</td>\n",
       "      <td>7f9af2c1a1126d084862d611c84521c3cf9b94722df88f...</td>\n",
       "      <td>87c18ad9475dfe4a3c10a2e8691b78fac44f91fcbbacab...</td>\n",
       "      <td>2020-03-14</td>\n",
       "      <td>913.0</td>\n",
       "      <td>55.0</td>\n",
       "      <td>NaN</td>\n",
       "      <td>l.a. care health plan</td>\n",
       "      <td>NaN</td>\n",
       "      <td>...</td>\n",
       "      <td>True</td>\n",
       "      <td>False</td>\n",
       "      <td>True</td>\n",
       "      <td>False</td>\n",
       "      <td>False</td>\n",
       "      <td>False</td>\n",
       "      <td>False</td>\n",
       "      <td>False</td>\n",
       "      <td>False</td>\n",
       "      <td>10</td>\n",
       "    </tr>\n",
       "  </tbody>\n",
       "</table>\n",
       "<p>10 rows × 50 columns</p>\n",
       "</div>"
      ],
      "text/plain": [
       "                         journey_id                        episode_id  \\\n",
       "0  00006390c96ebfffed580074c35a16a7  e25e5285e4f66d35c9840bf4e040fe73   \n",
       "1  00006d564a4718c744f1bbf1b6c5f8c3  cad5e8635fd011bfec2b65d161b15254   \n",
       "2  000072bc05e31d0126475c7a3e771af1  4d648af34c9a5da09e9bf2c9fed7263d   \n",
       "3  00011020325337a2a22fb26b6492196a  b2c64ae3446f18774940259e7f096541   \n",
       "4  00012bb21b3136f52c1c0774071f2ec2  7729a8e2d143a1a8117709cb82fbac56   \n",
       "5  00025243850b83969606f3f2aafc2d99  370ffbbbe53ed015f4da4b8b36835bf8   \n",
       "6  00028eaddd25f1151c94035997b5aab5  988053b794278da04d440d2d4f56ab08   \n",
       "7  0002af1d15822206675ddbf0242017e6  d2d0d6d5757b5b16629a91c94b6a6459   \n",
       "8  000362c8cc869075f4c2b6533887d4aa  52ceb00e0607228759315e198b38cbc1   \n",
       "9  00036c1c0fa135d6cb066c204259bddf  884e0fbfc1801d5307f958f38afe4f9d   \n",
       "\n",
       "                                            visit_id  \\\n",
       "0  3f45ba8ebef02b0c09b09e864e57ba5ee9d6bc9acf1c39...   \n",
       "1  3b0f0f71ac05c34ab9307c4853f1af59420c07b522cdf2...   \n",
       "2  8b53ffacbf985d68cbf2aa8e6a9e63a3662c4eddfef1d5...   \n",
       "3  f6652668408a2ce31adfc1125e54151deba1e0e87ad62e...   \n",
       "4  88904135337a0a5c9ec430f561b82e4ee7f709b56da1d8...   \n",
       "5  659fd72952b8a29848ce54c3c2c3fe6e486e08ae4b064b...   \n",
       "6  e23698ce9926b91d56c7204646b1908bbe9b70b199ba17...   \n",
       "7  89ac58e5328c9dee6d9ae04b734bd4565d695ee6a094cc...   \n",
       "8  e6a7f37178fb5bcd65b6f4d3c9e633870e9219e9d64223...   \n",
       "9  7f9af2c1a1126d084862d611c84521c3cf9b94722df88f...   \n",
       "\n",
       "                                        encounter_id  claim_date  \\\n",
       "0  c60da949b58f0351c8781c062f65d92bce76d9532d1632...  2023-07-19   \n",
       "1  eafff3ebf33ebe534edc66e761d9b52d1381653d9d0d57...  2019-11-01   \n",
       "2  2e44e65bde3c9e9b568c6b82d41ff50c1c5ba7300d845b...  2023-02-03   \n",
       "3  896775ac2d7798435e2998d043058557bbe87bd441074a...  2023-01-03   \n",
       "4  cb11d1a829f2040a4eac3b1b9c7faa3fc7df14e1cee899...  2023-02-03   \n",
       "5  708501c5f87d9657427f3b363aa57fee4dba0b4f44bce9...  2022-01-04   \n",
       "6  3eaa2500c931272d6013d48c82834e40e9bee80dc6ddad...  2022-04-18   \n",
       "7  1fb7d7cb78ee92073f74ed89c02a03facbc272620f930b...  2023-09-09   \n",
       "8  b8e57d7b3a1a45938edaf4f2264fdfbe08e773792d384e...  2023-01-03   \n",
       "9  87c18ad9475dfe4a3c10a2e8691b78fac44f91fcbbacab...  2020-03-14   \n",
       "\n",
       "   patient_short_zip  patient_age                   place_of_service  \\\n",
       "0              922.0         60.0                             Office   \n",
       "1              900.0         50.0                             Office   \n",
       "2              921.0         55.0                             Office   \n",
       "3              922.0         75.0                             Office   \n",
       "4              910.0         50.0                             Office   \n",
       "5              910.0         70.0          Emergency Room - Hospital   \n",
       "6              900.0         70.0  Federally Qualified Health Center   \n",
       "7              913.0         45.0                                NaN   \n",
       "8              913.0         65.0                             Office   \n",
       "9              913.0         55.0                                NaN   \n",
       "\n",
       "                       payor       ref_npi  ...  visit_type_outpatient visit  \\\n",
       "0  inland empire health plan  1.619408e+09  ...                         True   \n",
       "1        centene corporation  1.619903e+09  ...                         True   \n",
       "2  blue shield of california  1.952412e+09  ...                         True   \n",
       "3              brand new day  1.366518e+09  ...                         True   \n",
       "4                        NaN           NaN  ...                         True   \n",
       "5  blue shield of california  1.154948e+09  ...                         True   \n",
       "6  blue shield of california  1.134533e+09  ...                         True   \n",
       "7  blue shield of california           NaN  ...                         True   \n",
       "8  blue shield of california  1.699753e+09  ...                         True   \n",
       "9      l.a. care health plan           NaN  ...                         True   \n",
       "\n",
       "  visit_type_pharmacy visit payor_channel_managed medicaid  \\\n",
       "0                     False                          False   \n",
       "1                     False                          False   \n",
       "2                     False                          False   \n",
       "3                     False                          False   \n",
       "4                     False                          False   \n",
       "5                     False                          False   \n",
       "6                     False                          False   \n",
       "7                     False                          False   \n",
       "8                     False                          False   \n",
       "9                     False                           True   \n",
       "\n",
       "   payor_channel_medicaid payor_channel_medicare  \\\n",
       "0                   False                  False   \n",
       "1                   False                  False   \n",
       "2                   False                  False   \n",
       "3                   False                  False   \n",
       "4                   False                  False   \n",
       "5                   False                  False   \n",
       "6                   False                  False   \n",
       "7                   False                  False   \n",
       "8                   False                  False   \n",
       "9                   False                  False   \n",
       "\n",
       "  payor_channel_medicare advantage payor_channel_tricare  \\\n",
       "0                            False                 False   \n",
       "1                            False                 False   \n",
       "2                            False                 False   \n",
       "3                            False                 False   \n",
       "4                            False                 False   \n",
       "5                             True                 False   \n",
       "6                             True                 False   \n",
       "7                            False                 False   \n",
       "8                            False                 False   \n",
       "9                            False                 False   \n",
       "\n",
       "  payor_channel_veterans affairs payor_channel_workers comp no_of_claim  \n",
       "0                          False                      False           2  \n",
       "1                          False                      False          14  \n",
       "2                          False                      False           2  \n",
       "3                          False                      False          47  \n",
       "4                          False                      False           1  \n",
       "5                          False                      False           5  \n",
       "6                          False                      False          14  \n",
       "7                          False                      False           7  \n",
       "8                          False                      False           7  \n",
       "9                          False                      False          10  \n",
       "\n",
       "[10 rows x 50 columns]"
      ]
     },
     "execution_count": 140,
     "metadata": {},
     "output_type": "execute_result"
    }
   ],
   "source": [
    "medicalFile.reset_index(drop=True, inplace=True)\n",
    "medicalFile.head(10)"
   ]
  },
  {
   "cell_type": "markdown",
   "id": "b5d8beda-8cb4-47d0-9c80-45256b2660c5",
   "metadata": {},
   "source": [
    "**ADDING TREATMENT VARIABLE TO FILE:**"
   ]
  },
  {
   "cell_type": "code",
   "execution_count": 141,
   "id": "f23436de-e5ea-4ecb-9a71-48bdfa074bb0",
   "metadata": {},
   "outputs": [],
   "source": [
    "# TREATMENT VARIABLE: Substituting 1, where id is identified with the Jcode in proc\n",
    "medicalFile['ozempicVariable'] =  np.where(medicalFile['journey_id'].isin(ozempicIdentified),1,0)"
   ]
  },
  {
   "cell_type": "markdown",
   "id": "6adb1c09-1729-4115-b975-119570cb3683",
   "metadata": {},
   "source": [
    "### MERGING DATASETS:\n",
    "\n",
    "The file is then merged on the journey id having inner join, and the duplicated column is then handled by the function .duplicated() checking ~ for not inclusion. .loc handles the array positions efficiently."
   ]
  },
  {
   "cell_type": "code",
   "execution_count": 142,
   "id": "792f4cde-3f9a-4cf1-85e7-e5ebdd1de90f",
   "metadata": {},
   "outputs": [],
   "source": [
    "# Merging with on suggesting the variable and how specifying the type of join.\n",
    "mergedFile = pd.merge(medicalFile, scriptsFile, on='journey_id', how='inner')"
   ]
  },
  {
   "cell_type": "code",
   "execution_count": 143,
   "id": "e40431ec-6aca-46e7-9b27-514aac93b112",
   "metadata": {
    "scrolled": true
   },
   "outputs": [
    {
     "data": {
      "text/html": [
       "<div>\n",
       "<style scoped>\n",
       "    .dataframe tbody tr th:only-of-type {\n",
       "        vertical-align: middle;\n",
       "    }\n",
       "\n",
       "    .dataframe tbody tr th {\n",
       "        vertical-align: top;\n",
       "    }\n",
       "\n",
       "    .dataframe thead th {\n",
       "        text-align: right;\n",
       "    }\n",
       "</style>\n",
       "<table border=\"1\" class=\"dataframe\">\n",
       "  <thead>\n",
       "    <tr style=\"text-align: right;\">\n",
       "      <th></th>\n",
       "      <th>journey_id</th>\n",
       "      <th>episode_id</th>\n",
       "      <th>visit_id</th>\n",
       "      <th>encounter_id</th>\n",
       "      <th>claim_date</th>\n",
       "      <th>patient_short_zip</th>\n",
       "      <th>patient_age</th>\n",
       "      <th>place_of_service_x</th>\n",
       "      <th>payor</th>\n",
       "      <th>ref_npi</th>\n",
       "      <th>...</th>\n",
       "      <th>ndc</th>\n",
       "      <th>active</th>\n",
       "      <th>start_date</th>\n",
       "      <th>end_date</th>\n",
       "      <th>patient_gender_M_y</th>\n",
       "      <th>patient_state_FL</th>\n",
       "      <th>patient_state_IL</th>\n",
       "      <th>patient_state_NY</th>\n",
       "      <th>patient_state_TX</th>\n",
       "      <th>no_of_visits</th>\n",
       "    </tr>\n",
       "  </thead>\n",
       "  <tbody>\n",
       "    <tr>\n",
       "      <th>0</th>\n",
       "      <td>00006390c96ebfffed580074c35a16a7</td>\n",
       "      <td>e25e5285e4f66d35c9840bf4e040fe73</td>\n",
       "      <td>3f45ba8ebef02b0c09b09e864e57ba5ee9d6bc9acf1c39...</td>\n",
       "      <td>c60da949b58f0351c8781c062f65d92bce76d9532d1632...</td>\n",
       "      <td>2023-07-19</td>\n",
       "      <td>922.0</td>\n",
       "      <td>60.0</td>\n",
       "      <td>Office</td>\n",
       "      <td>inland empire health plan</td>\n",
       "      <td>1.619408e+09</td>\n",
       "      <td>...</td>\n",
       "      <td>47335067381</td>\n",
       "      <td>True</td>\n",
       "      <td>190001</td>\n",
       "      <td>NaN</td>\n",
       "      <td>True</td>\n",
       "      <td>False</td>\n",
       "      <td>False</td>\n",
       "      <td>False</td>\n",
       "      <td>False</td>\n",
       "      <td>28</td>\n",
       "    </tr>\n",
       "    <tr>\n",
       "      <th>1</th>\n",
       "      <td>000072bc05e31d0126475c7a3e771af1</td>\n",
       "      <td>4d648af34c9a5da09e9bf2c9fed7263d</td>\n",
       "      <td>8b53ffacbf985d68cbf2aa8e6a9e63a3662c4eddfef1d5...</td>\n",
       "      <td>2e44e65bde3c9e9b568c6b82d41ff50c1c5ba7300d845b...</td>\n",
       "      <td>2023-02-03</td>\n",
       "      <td>921.0</td>\n",
       "      <td>55.0</td>\n",
       "      <td>Office</td>\n",
       "      <td>blue shield of california</td>\n",
       "      <td>1.952412e+09</td>\n",
       "      <td>...</td>\n",
       "      <td>16714018301</td>\n",
       "      <td>True</td>\n",
       "      <td>190001</td>\n",
       "      <td>NaN</td>\n",
       "      <td>True</td>\n",
       "      <td>False</td>\n",
       "      <td>False</td>\n",
       "      <td>False</td>\n",
       "      <td>False</td>\n",
       "      <td>67</td>\n",
       "    </tr>\n",
       "    <tr>\n",
       "      <th>2</th>\n",
       "      <td>0002af1d15822206675ddbf0242017e6</td>\n",
       "      <td>d2d0d6d5757b5b16629a91c94b6a6459</td>\n",
       "      <td>89ac58e5328c9dee6d9ae04b734bd4565d695ee6a094cc...</td>\n",
       "      <td>1fb7d7cb78ee92073f74ed89c02a03facbc272620f930b...</td>\n",
       "      <td>2023-09-09</td>\n",
       "      <td>913.0</td>\n",
       "      <td>45.0</td>\n",
       "      <td>NaN</td>\n",
       "      <td>blue shield of california</td>\n",
       "      <td>NaN</td>\n",
       "      <td>...</td>\n",
       "      <td>68645053254</td>\n",
       "      <td>True</td>\n",
       "      <td>190001</td>\n",
       "      <td>NaN</td>\n",
       "      <td>True</td>\n",
       "      <td>False</td>\n",
       "      <td>False</td>\n",
       "      <td>False</td>\n",
       "      <td>False</td>\n",
       "      <td>79</td>\n",
       "    </tr>\n",
       "    <tr>\n",
       "      <th>3</th>\n",
       "      <td>0003ff8dd03803a9197ed01075f4b094</td>\n",
       "      <td>9ca7537f9020dfe6a048a15e6c17bca6</td>\n",
       "      <td>26be6074601c058bd052eea8c3c19eb03562ef113311b1...</td>\n",
       "      <td>9bd3b0e5dd7854157cef61d69af044dae2b52ecc58f84d...</td>\n",
       "      <td>2023-07-17</td>\n",
       "      <td>922.0</td>\n",
       "      <td>60.0</td>\n",
       "      <td>Office</td>\n",
       "      <td>molina healthcare</td>\n",
       "      <td>NaN</td>\n",
       "      <td>...</td>\n",
       "      <td>45802005935</td>\n",
       "      <td>True</td>\n",
       "      <td>190001</td>\n",
       "      <td>NaN</td>\n",
       "      <td>False</td>\n",
       "      <td>False</td>\n",
       "      <td>False</td>\n",
       "      <td>False</td>\n",
       "      <td>False</td>\n",
       "      <td>264</td>\n",
       "    </tr>\n",
       "    <tr>\n",
       "      <th>4</th>\n",
       "      <td>0004029899177171c9851df0a5916b02</td>\n",
       "      <td>65471f567f945aa51cf81016186722c2</td>\n",
       "      <td>2c5c112350fda715bfb4d6e8f74d8ffda2b8ec048cbac5...</td>\n",
       "      <td>a2b03b9bd55699f7f8588fdef7f8a5d26c6d7d0c298a74...</td>\n",
       "      <td>2023-04-19</td>\n",
       "      <td>900.0</td>\n",
       "      <td>65.0</td>\n",
       "      <td>Office</td>\n",
       "      <td>centers for medicare &amp; medicaid services (cms)</td>\n",
       "      <td>NaN</td>\n",
       "      <td>...</td>\n",
       "      <td>80777028299</td>\n",
       "      <td>True</td>\n",
       "      <td>190001</td>\n",
       "      <td>NaN</td>\n",
       "      <td>True</td>\n",
       "      <td>False</td>\n",
       "      <td>False</td>\n",
       "      <td>False</td>\n",
       "      <td>False</td>\n",
       "      <td>1</td>\n",
       "    </tr>\n",
       "  </tbody>\n",
       "</table>\n",
       "<p>5 rows × 102 columns</p>\n",
       "</div>"
      ],
      "text/plain": [
       "                         journey_id                        episode_id  \\\n",
       "0  00006390c96ebfffed580074c35a16a7  e25e5285e4f66d35c9840bf4e040fe73   \n",
       "1  000072bc05e31d0126475c7a3e771af1  4d648af34c9a5da09e9bf2c9fed7263d   \n",
       "2  0002af1d15822206675ddbf0242017e6  d2d0d6d5757b5b16629a91c94b6a6459   \n",
       "3  0003ff8dd03803a9197ed01075f4b094  9ca7537f9020dfe6a048a15e6c17bca6   \n",
       "4  0004029899177171c9851df0a5916b02  65471f567f945aa51cf81016186722c2   \n",
       "\n",
       "                                            visit_id  \\\n",
       "0  3f45ba8ebef02b0c09b09e864e57ba5ee9d6bc9acf1c39...   \n",
       "1  8b53ffacbf985d68cbf2aa8e6a9e63a3662c4eddfef1d5...   \n",
       "2  89ac58e5328c9dee6d9ae04b734bd4565d695ee6a094cc...   \n",
       "3  26be6074601c058bd052eea8c3c19eb03562ef113311b1...   \n",
       "4  2c5c112350fda715bfb4d6e8f74d8ffda2b8ec048cbac5...   \n",
       "\n",
       "                                        encounter_id  claim_date  \\\n",
       "0  c60da949b58f0351c8781c062f65d92bce76d9532d1632...  2023-07-19   \n",
       "1  2e44e65bde3c9e9b568c6b82d41ff50c1c5ba7300d845b...  2023-02-03   \n",
       "2  1fb7d7cb78ee92073f74ed89c02a03facbc272620f930b...  2023-09-09   \n",
       "3  9bd3b0e5dd7854157cef61d69af044dae2b52ecc58f84d...  2023-07-17   \n",
       "4  a2b03b9bd55699f7f8588fdef7f8a5d26c6d7d0c298a74...  2023-04-19   \n",
       "\n",
       "   patient_short_zip  patient_age place_of_service_x  \\\n",
       "0              922.0         60.0             Office   \n",
       "1              921.0         55.0             Office   \n",
       "2              913.0         45.0                NaN   \n",
       "3              922.0         60.0             Office   \n",
       "4              900.0         65.0             Office   \n",
       "\n",
       "                                            payor       ref_npi  ...  \\\n",
       "0                       inland empire health plan  1.619408e+09  ...   \n",
       "1                       blue shield of california  1.952412e+09  ...   \n",
       "2                       blue shield of california           NaN  ...   \n",
       "3                               molina healthcare           NaN  ...   \n",
       "4  centers for medicare & medicaid services (cms)           NaN  ...   \n",
       "\n",
       "           ndc active start_date  end_date patient_gender_M_y  \\\n",
       "0  47335067381   True     190001       NaN               True   \n",
       "1  16714018301   True     190001       NaN               True   \n",
       "2  68645053254   True     190001       NaN               True   \n",
       "3  45802005935   True     190001       NaN              False   \n",
       "4  80777028299   True     190001       NaN               True   \n",
       "\n",
       "  patient_state_FL patient_state_IL patient_state_NY patient_state_TX  \\\n",
       "0            False            False            False            False   \n",
       "1            False            False            False            False   \n",
       "2            False            False            False            False   \n",
       "3            False            False            False            False   \n",
       "4            False            False            False            False   \n",
       "\n",
       "  no_of_visits  \n",
       "0           28  \n",
       "1           67  \n",
       "2           79  \n",
       "3          264  \n",
       "4            1  \n",
       "\n",
       "[5 rows x 102 columns]"
      ]
     },
     "execution_count": 143,
     "metadata": {},
     "output_type": "execute_result"
    }
   ],
   "source": [
    "mergedFile = mergedFile.loc[:, ~mergedFile.columns.duplicated()]\n",
    "mergedFile.head(5)"
   ]
  },
  {
   "cell_type": "code",
   "execution_count": 144,
   "id": "db4d0aea-50f9-4105-9de3-60db79555104",
   "metadata": {},
   "outputs": [],
   "source": [
    "# Brainstorming - Rough work\n",
    "# x -> patient_age, patient_gender_M_y, patient_state_FL, patient_state_IL, patient_state_NY, patient_state_TX, patient_state_AK, patient_state_AL, patient_state_AZ, patient_state_CA, quantity_dispensed, quantity_prescribed_original, visit_type_non-hospital institution visit, visit_type_outpatient visit, visit_type_pharmacy visit, payor_channel_managed medicaid, payor_channel_medicaid, payor_channel_medicare advantage, payor_channel_tricare, payor_channel_veterans affairs, payor_channel_workers comp      \n",
    "# y -> visit_type == emergency room visit, diagnosis_code"
   ]
  },
  {
   "cell_type": "code",
   "execution_count": 145,
   "id": "35fd2785-a87b-4db3-8d48-9d6d896fb9e1",
   "metadata": {
    "scrolled": true
   },
   "outputs": [
    {
     "name": "stdout",
     "output_type": "stream",
     "text": [
      "<class 'pandas.core.frame.DataFrame'>\n",
      "RangeIndex: 12834 entries, 0 to 12833\n",
      "Columns: 102 entries, journey_id to no_of_visits\n",
      "dtypes: bool(25), datetime64[ns](2), float64(32), int64(7), object(36)\n",
      "memory usage: 7.8+ MB\n"
     ]
    }
   ],
   "source": [
    "mergedFile.info()"
   ]
  },
  {
   "cell_type": "code",
   "execution_count": 146,
   "id": "96893e54-8ecb-4a14-90a9-244e9075a586",
   "metadata": {
    "scrolled": true
   },
   "outputs": [
    {
     "name": "stdout",
     "output_type": "stream",
     "text": [
      "['journey_id', 'episode_id', 'visit_id', 'encounter_id', 'claim_date', 'patient_short_zip', 'patient_age', 'place_of_service_x', 'payor', 'ref_npi', 'hcp_npi', 'hcp_taxonomy', 'hcp_specialty', 'hco_npi', 'hcp_npi_list', 'hco_npi_list', 'diag_list', 'diag_1', 'diag_2', 'diag_3', 'diag_4', 'diag_5', 'rev_center_code', 'rev_center_units', 'proc_code', 'proc_modifier', 'proc_units', 'line_charge', 'claim_charge', 'smart_allowed', 'patient_gender_M_x', 'patient_state_AK', 'patient_state_AL', 'patient_state_AZ', 'patient_state_CA', 'visit_type_emergency room visit', 'visit_type_home visit', 'visit_type_inpatient visit', 'visit_type_laboratory visit', 'visit_type_non-hospital institution visit', 'visit_type_outpatient visit', 'visit_type_pharmacy visit', 'payor_channel_managed medicaid', 'payor_channel_medicaid', 'payor_channel_medicare', 'payor_channel_medicare advantage', 'payor_channel_tricare', 'payor_channel_veterans affairs', 'payor_channel_workers comp', 'no_of_claim', 'ozempicVariable', 'cohort_id', 'claim_id', 'patient_zip', 'patient_dob', 'pharmacy_npi', 'pharmacist_npi', 'prescriber_npi', 'primary_care_npi', 'group_id', 'date_of_service', 'date_authorized', 'transaction_type', 'date_prescription_written', 'ndc11', 'ndc11_original', 'number_of_refills_authorized', 'diagnosis_code', 'diagnosis_code_type', 'quantity_prescribed_original', 'quantity_dispensed', 'place_of_service_y', 'is_service', 'level_of_service', 'fill_number', 'days_supply', 'unit_of_measure', 'daw_code', 'prior_authorization_type_code', 'is_compound_drug', 'coupon_type', 'coupon_value_amount', 'pharmacy_submitted_cost', 'patient_pay', 'copay_coinsurance', 'pcn', 'bin', 'plan_pay', 'reject_code_1', 'reject_code_3', 'reject_code_4', 'reject_code_5', 'ndc', 'active', 'start_date', 'end_date', 'patient_gender_M_y', 'patient_state_FL', 'patient_state_IL', 'patient_state_NY', 'patient_state_TX', 'no_of_visits']\n"
     ]
    }
   ],
   "source": [
    "# Printing the columns in the resulting merged dataset\n",
    "print(mergedFile.columns.tolist())"
   ]
  },
  {
   "cell_type": "code",
   "execution_count": 147,
   "id": "c1f28214-fb23-4804-adc4-ddd20b844c7a",
   "metadata": {},
   "outputs": [],
   "source": [
    "# Checking the null values again before running the data\n",
    "mergedFile['quantity_prescribed_original'].fillna(scriptsFile['quantity_prescribed_original'].mean(), inplace=True)\n",
    "mergedFile['quantity_dispensed'].fillna(scriptsFile['quantity_dispensed'].mean(), inplace=True)"
   ]
  },
  {
   "cell_type": "code",
   "execution_count": 150,
   "id": "4de3919c-a2c9-4781-9fe5-4ce4c5ed73c7",
   "metadata": {},
   "outputs": [
    {
     "name": "stdout",
     "output_type": "stream",
     "text": [
      "journey_id           0\n",
      "episode_id           0\n",
      "visit_id            33\n",
      "encounter_id         0\n",
      "claim_date           0\n",
      "                    ..\n",
      "patient_state_FL     0\n",
      "patient_state_IL     0\n",
      "patient_state_NY     0\n",
      "patient_state_TX     0\n",
      "no_of_visits         0\n",
      "Length: 102, dtype: int64\n"
     ]
    }
   ],
   "source": [
    "print(mergedFile.isnull().sum())"
   ]
  },
  {
   "cell_type": "markdown",
   "id": "b29063a1-e07c-41dc-b789-c1e6e47478f9",
   "metadata": {},
   "source": [
    "### Printing the size of file and describing count, mean values, deviation (key statistics) for the columns given"
   ]
  },
  {
   "cell_type": "code",
   "execution_count": 151,
   "id": "ffcf5046-a095-4d22-a0d1-d80f5b0a6206",
   "metadata": {},
   "outputs": [
    {
     "name": "stdout",
     "output_type": "stream",
     "text": [
      "Size = 1309068\n"
     ]
    }
   ],
   "source": [
    "# Printing size of the file by size()\n",
    "size = mergedFile.size\n",
    "print(\"Size = {}\".format(size))"
   ]
  },
  {
   "cell_type": "code",
   "execution_count": 152,
   "id": "ff2460fb-b648-44e1-88f0-2aa900c2189a",
   "metadata": {
    "scrolled": true
   },
   "outputs": [
    {
     "name": "stdout",
     "output_type": "stream",
     "text": [
      "       patient_short_zip   patient_age       ref_npi       hcp_npi  \\\n",
      "count       12834.000000  12834.000000  6.468000e+03  1.283400e+04   \n",
      "mean          905.378760     58.838247  1.499867e+09  1.507954e+09   \n",
      "min            88.000000     35.000000  1.003001e+09  1.003001e+09   \n",
      "25%           900.000000     50.000000  1.245499e+09  1.265445e+09   \n",
      "50%           912.000000     60.000000  1.508111e+09  1.518550e+09   \n",
      "75%           921.000000     65.000000  1.750331e+09  1.750313e+09   \n",
      "max           999.000000     80.000000  1.992989e+09  1.993000e+09   \n",
      "std            51.602431      9.914789  2.884385e+08  2.836739e+08   \n",
      "\n",
      "            hco_npi  rev_center_code  rev_center_units    proc_units  \\\n",
      "count  1.283400e+04      2075.000000      12801.000000  12799.000000   \n",
      "mean   1.484708e+09       392.137831          1.108976      3.437378   \n",
      "min    1.003073e+09         1.000000          1.000000      0.000000   \n",
      "25%    1.235108e+09       300.000000          1.000000      1.000000   \n",
      "50%    1.477608e+09       324.000000          1.000000      1.000000   \n",
      "75%    1.740506e+09       521.000000          1.000000      1.000000   \n",
      "max    1.992982e+09      3103.000000         44.000000   2000.000000   \n",
      "std    2.922581e+08       184.349795          1.324616     28.088373   \n",
      "\n",
      "         line_charge   claim_charge  ...  coupon_value_amount  \\\n",
      "count   12834.000000   12834.000000  ...                  0.0   \n",
      "mean      554.535404     554.535404  ...                  NaN   \n",
      "min         0.000000       0.000000  ...                  NaN   \n",
      "25%         5.000000       5.000000  ...                  NaN   \n",
      "50%       100.000000     100.000000  ...                  NaN   \n",
      "75%       269.230000     269.230000  ...                  NaN   \n",
      "max    188404.000000  188404.000000  ...                  NaN   \n",
      "std      3321.430204    3321.430204  ...                  NaN   \n",
      "\n",
      "       pharmacy_submitted_cost   patient_pay  copay_coinsurance  \\\n",
      "count             12834.000000  12834.000000        4913.000000   \n",
      "mean                388.498998     11.388316           7.171681   \n",
      "min                  -6.300000     -7.250000         -81.040000   \n",
      "25%                  24.535000      0.000000           0.000000   \n",
      "50%                  85.000000      1.450000           0.840000   \n",
      "75%                 278.990000     10.520248           5.000000   \n",
      "max               62658.000000   3025.040000        1289.350000   \n",
      "std                1509.896426     75.919596          34.816242   \n",
      "\n",
      "                 bin      plan_pay           ndc     start_date  \\\n",
      "count   12834.000000   7478.000000  1.283400e+04   12834.000000   \n",
      "mean   126667.670640    150.781158  4.199186e+10  191134.548309   \n",
      "min      3585.000000   -406.240000  2.143380e+06  190001.000000   \n",
      "25%      4336.000000      0.205000  1.671401e+10  190001.000000   \n",
      "50%     16904.000000     13.580000  5.167213e+10  190001.000000   \n",
      "75%     22659.000000     40.000000  6.586206e+10  190001.000000   \n",
      "max    900020.000000  24930.050000  9.123700e+10  202307.000000   \n",
      "std    234601.182049    743.365001  2.763841e+10    3469.223665   \n",
      "\n",
      "            end_date  no_of_visits  \n",
      "count     970.000000  12834.000000  \n",
      "mean   202035.478351     57.822814  \n",
      "min    201008.000000      1.000000  \n",
      "25%    201833.500000      5.000000  \n",
      "50%    202304.000000     24.000000  \n",
      "75%    202304.000000     75.000000  \n",
      "max    202306.000000    930.000000  \n",
      "std       361.180081     84.648682  \n",
      "\n",
      "[8 rows x 41 columns]\n"
     ]
    }
   ],
   "source": [
    "print(mergedFile.describe())"
   ]
  },
  {
   "cell_type": "markdown",
   "id": "2066b75c-6850-48b1-826f-471c635d6998",
   "metadata": {},
   "source": [
    "## **PART 3: CASUAL ANALYSYS SETUP**\n",
    "\n",
    "\n",
    "Checking with the file given, how treatment variable defined varies with few of the covariates. Treatment variable is boolean data type having 1, if the row has proc_code 'J3490'. Few of the covariates taken are patient_age, line_charge, patient_pay and refills."
   ]
  },
  {
   "cell_type": "code",
   "execution_count": 157,
   "id": "2e6b0b98-64ee-471b-9b8b-b176ccbe3139",
   "metadata": {},
   "outputs": [],
   "source": [
    "describe1 = mergedFile[mergedFile['ozempicVariable'] == 0]['patient_age'].describe()\n",
    "describe2 = mergedFile[mergedFile['ozempicVariable'] == 1]['patient_age'].describe()\n",
    "\n",
    "lineCharge1 = mergedFile[mergedFile['ozempicVariable'] == 0]['line_charge'].describe()\n",
    "lineCharge2 = mergedFile[mergedFile['ozempicVariable'] == 1]['line_charge'].describe()\n",
    "\n",
    "claimCharge1 = mergedFile[mergedFile['ozempicVariable'] == 0]['claim_charge'].describe()\n",
    "claimCharge2 = mergedFile[mergedFile['ozempicVariable'] == 1]['claim_charge'].describe()\n",
    "\n",
    "pay1 = mergedFile[mergedFile['ozempicVariable'] == 0]['patient_pay'].describe()\n",
    "pay2 = mergedFile[mergedFile['ozempicVariable'] == 1]['patient_pay'].describe()\n",
    "\n",
    "fills1 = mergedFile[mergedFile['ozempicVariable'] == 0]['number_of_refills_authorized'].describe()\n",
    "fills2 = mergedFile[mergedFile['ozempicVariable'] == 1]['number_of_refills_authorized'].describe()"
   ]
  },
  {
   "cell_type": "code",
   "execution_count": 158,
   "id": "94aae140-c52c-451a-adee-491c5d705e21",
   "metadata": {},
   "outputs": [
    {
     "name": "stdout",
     "output_type": "stream",
     "text": [
      "Key statistics for treatment Variable (0/1) with few covariates:\n",
      "\n",
      "               Age0        Age1    lineCharge0   lineCharge1   claimCharge0  \\\n",
      "count  12603.000000  231.000000   12603.000000    231.000000   12603.000000   \n",
      "mean      58.854102   57.973251     547.833821    920.163333     547.833821   \n",
      "std        9.917005    9.775333    3270.167505   5427.456907    3270.167505   \n",
      "min       35.000000   35.000000       0.000000      0.000000       0.000000   \n",
      "25%       50.000000   50.000000       5.000000     27.700000       5.000000   \n",
      "50%       60.000000   60.000000     100.000000    140.000000     100.000000   \n",
      "75%       65.000000   65.000000     265.000000    360.500000     265.000000   \n",
      "max       80.000000   75.000000  188404.000000  79900.000000  188404.000000   \n",
      "\n",
      "       claimCharge1   patientPay0  patientPay1      refills0    refills1  \n",
      "count    231.000000  12603.000000   231.000000  12603.000000  231.000000  \n",
      "mean     920.163333     11.351651    13.388718      2.043407    1.661917  \n",
      "std     5427.456907     76.091605    65.970480      6.505487    2.308104  \n",
      "min        0.000000     -7.250000     0.000000      0.000000    0.000000  \n",
      "25%       27.700000      0.000000     0.000000      0.000000    0.000000  \n",
      "50%      140.000000      1.450000     1.350000      1.000000    1.000000  \n",
      "75%      360.500000     10.520248    10.520248      3.000000    3.000000  \n",
      "max    79900.000000   3025.040000   815.370000     99.000000   11.000000  \n"
     ]
    }
   ],
   "source": [
    "summary = pd.concat([describe1, describe2, lineCharge1, lineCharge2, claimCharge1, claimCharge2, pay1, pay2, fills1, fills2], axis=1)\n",
    "summary.columns = ['Age0', 'Age1', 'lineCharge0', 'lineCharge1', 'claimCharge0', 'claimCharge1', 'patientPay0', 'patientPay1', 'refills0', 'refills1']\n",
    "\n",
    "print(\"Key statistics for treatment Variable (0/1) with few covariates:\\n\")\n",
    "print(summary)"
   ]
  },
  {
   "cell_type": "markdown",
   "id": "2be73867-075d-456d-95fd-a5d9798ed3be",
   "metadata": {},
   "source": [
    "**INFERENCE:**\n",
    "1. The summary suggests, that the count of people having ozempic is less than not having. Additionally, we can see that the mean age is also similar.\n",
    "2. Line charge for people having ozempic is higher than people not having ozempic, this could be related to using the recommended drugs.\n",
    "3. Also, claim charge shows correlation with the treatment variable by having higher mean with treatment variable than without treatment variable.\n",
    "4. Patient pay mean is slightly higher with treatment variable, indicating relation.\n",
    "\n",
    "**POTENTIAL ISSUES:**\n",
    "1. The correlation of covariates with treatment variable causes endogeniety issues, which leads to violation of one linear model assumption and could result in biased and inefficient estimates.\n",
    "2. It can also lead to inconsistent p-values, and larger confidence intervals.\n",
    "3. There could be selection bias, due to multiple factors leading to overestimation or underestimation of the model.\n",
    "4. The effect of treatment variable on model and other covariates on model could not be identified easily.\n",
    "\n",
    "**STRATEGY:**\n",
    "1. The biased variable could be identified which would involve understanding the dependent and independent variables.\n",
    "2. Implementing a penalty function to the sum of coefficients, and then applying double lasso regression. This suggests, regressing the treatment variable with the other covariates, which helps in removing/ identifying the relation of dependent variable on treatment variable. The result could be assumed as dhat, and treatment variable as d. The covariates, x are then regressed on the dependent variable y, along with d and dhat. d and dhat are unpenalised, due to measuring their results and effects. All the covariates, x are put up with a penalty function alpha, which could become so large reducing the coefficient to zero. These co-efficients are termed as irrelevant variables and the regression works as variable selection as well. The model helps even if x have relation, since all the information could be absorbed by dhat and co-efficient of d can provide actual treatment affect.\n",
    "3. Other solutions include implementing Instrumental variable, controlling confounding variable and treatment effect."
   ]
  },
  {
   "cell_type": "markdown",
   "id": "42101b8e-4a4a-4252-af68-2605b47db5b8",
   "metadata": {},
   "source": [
    "## **PART 4: MODEL DEVELOPMENT**"
   ]
  },
  {
   "cell_type": "markdown",
   "id": "2265fb58-e6a3-43f2-87d5-008fb09b04d7",
   "metadata": {},
   "source": [
    "**STEP 1:** Running treatment variable with the covariates\n",
    "\n",
    "1. The covariates included are patient_age which could be a good factor in determining how ozempic varies.\n",
    "2. Patient gender could also play a role since we saw during visualization that men have higher count than women.\n",
    "3. LineCharge and ClaimCharge was observed having mean greater with treatment variable than with no treatment variable, which could be a potential dependence.\n",
    "4. Refills authorized, potential pay, quantity dispensed, quantity prescribed original could be potential covariates.\n",
    "5. Patient state, could suggest the number of people coming from, and if any regulation needs to be taken like we noticed 'CA' having higher frequency. The values are encoded to dummy variables.\n",
    "6. Similarly, visit type and payor channel could influence the independent variable, by checking how many emergency, inpatient visits are npted. These are also encoded to include in the model. "
   ]
  },
  {
   "cell_type": "code",
   "execution_count": 159,
   "id": "3adc3098-c5c7-49e4-b5c3-2c7ff9a31844",
   "metadata": {},
   "outputs": [
    {
     "data": {
      "text/html": [
       "<style>#sk-container-id-1 {color: black;}#sk-container-id-1 pre{padding: 0;}#sk-container-id-1 div.sk-toggleable {background-color: white;}#sk-container-id-1 label.sk-toggleable__label {cursor: pointer;display: block;width: 100%;margin-bottom: 0;padding: 0.3em;box-sizing: border-box;text-align: center;}#sk-container-id-1 label.sk-toggleable__label-arrow:before {content: \"▸\";float: left;margin-right: 0.25em;color: #696969;}#sk-container-id-1 label.sk-toggleable__label-arrow:hover:before {color: black;}#sk-container-id-1 div.sk-estimator:hover label.sk-toggleable__label-arrow:before {color: black;}#sk-container-id-1 div.sk-toggleable__content {max-height: 0;max-width: 0;overflow: hidden;text-align: left;background-color: #f0f8ff;}#sk-container-id-1 div.sk-toggleable__content pre {margin: 0.2em;color: black;border-radius: 0.25em;background-color: #f0f8ff;}#sk-container-id-1 input.sk-toggleable__control:checked~div.sk-toggleable__content {max-height: 200px;max-width: 100%;overflow: auto;}#sk-container-id-1 input.sk-toggleable__control:checked~label.sk-toggleable__label-arrow:before {content: \"▾\";}#sk-container-id-1 div.sk-estimator input.sk-toggleable__control:checked~label.sk-toggleable__label {background-color: #d4ebff;}#sk-container-id-1 div.sk-label input.sk-toggleable__control:checked~label.sk-toggleable__label {background-color: #d4ebff;}#sk-container-id-1 input.sk-hidden--visually {border: 0;clip: rect(1px 1px 1px 1px);clip: rect(1px, 1px, 1px, 1px);height: 1px;margin: -1px;overflow: hidden;padding: 0;position: absolute;width: 1px;}#sk-container-id-1 div.sk-estimator {font-family: monospace;background-color: #f0f8ff;border: 1px dotted black;border-radius: 0.25em;box-sizing: border-box;margin-bottom: 0.5em;}#sk-container-id-1 div.sk-estimator:hover {background-color: #d4ebff;}#sk-container-id-1 div.sk-parallel-item::after {content: \"\";width: 100%;border-bottom: 1px solid gray;flex-grow: 1;}#sk-container-id-1 div.sk-label:hover label.sk-toggleable__label {background-color: #d4ebff;}#sk-container-id-1 div.sk-serial::before {content: \"\";position: absolute;border-left: 1px solid gray;box-sizing: border-box;top: 0;bottom: 0;left: 50%;z-index: 0;}#sk-container-id-1 div.sk-serial {display: flex;flex-direction: column;align-items: center;background-color: white;padding-right: 0.2em;padding-left: 0.2em;position: relative;}#sk-container-id-1 div.sk-item {position: relative;z-index: 1;}#sk-container-id-1 div.sk-parallel {display: flex;align-items: stretch;justify-content: center;background-color: white;position: relative;}#sk-container-id-1 div.sk-item::before, #sk-container-id-1 div.sk-parallel-item::before {content: \"\";position: absolute;border-left: 1px solid gray;box-sizing: border-box;top: 0;bottom: 0;left: 50%;z-index: -1;}#sk-container-id-1 div.sk-parallel-item {display: flex;flex-direction: column;z-index: 1;position: relative;background-color: white;}#sk-container-id-1 div.sk-parallel-item:first-child::after {align-self: flex-end;width: 50%;}#sk-container-id-1 div.sk-parallel-item:last-child::after {align-self: flex-start;width: 50%;}#sk-container-id-1 div.sk-parallel-item:only-child::after {width: 0;}#sk-container-id-1 div.sk-dashed-wrapped {border: 1px dashed gray;margin: 0 0.4em 0.5em 0.4em;box-sizing: border-box;padding-bottom: 0.4em;background-color: white;}#sk-container-id-1 div.sk-label label {font-family: monospace;font-weight: bold;display: inline-block;line-height: 1.2em;}#sk-container-id-1 div.sk-label-container {text-align: center;}#sk-container-id-1 div.sk-container {/* jupyter's `normalize.less` sets `[hidden] { display: none; }` but bootstrap.min.css set `[hidden] { display: none !important; }` so we also need the `!important` here to be able to override the default hidden behavior on the sphinx rendered scikit-learn.org. See: https://github.com/scikit-learn/scikit-learn/issues/21755 */display: inline-block !important;position: relative;}#sk-container-id-1 div.sk-text-repr-fallback {display: none;}</style><div id=\"sk-container-id-1\" class=\"sk-top-container\"><div class=\"sk-text-repr-fallback\"><pre>Lasso(alpha=0.1)</pre><b>In a Jupyter environment, please rerun this cell to show the HTML representation or trust the notebook. <br />On GitHub, the HTML representation is unable to render, please try loading this page with nbviewer.org.</b></div><div class=\"sk-container\" hidden><div class=\"sk-item\"><div class=\"sk-estimator sk-toggleable\"><input class=\"sk-toggleable__control sk-hidden--visually\" id=\"sk-estimator-id-1\" type=\"checkbox\" checked><label for=\"sk-estimator-id-1\" class=\"sk-toggleable__label sk-toggleable__label-arrow\">Lasso</label><div class=\"sk-toggleable__content\"><pre>Lasso(alpha=0.1)</pre></div></div></div></div></div>"
      ],
      "text/plain": [
       "Lasso(alpha=0.1)"
      ]
     },
     "execution_count": 159,
     "metadata": {},
     "output_type": "execute_result"
    }
   ],
   "source": [
    "# Defining variables and running lasso on alpha = 0.1\n",
    "d = mergedFile['ozempicVariable']\n",
    "X = mergedFile[['patient_age', 'patient_gender_M_x', 'line_charge', 'claim_charge', 'number_of_refills_authorized', 'patient_pay', 'quantity_dispensed', 'quantity_prescribed_original','patient_state_FL', 'patient_state_IL', 'patient_state_NY', 'patient_state_TX', 'patient_state_AK', 'patient_state_AL', 'patient_state_AZ', 'patient_state_CA', 'visit_type_non-hospital institution visit', 'visit_type_outpatient visit', 'visit_type_pharmacy visit', 'payor_channel_managed medicaid', 'payor_channel_medicaid', 'payor_channel_medicare advantage', 'payor_channel_tricare', 'payor_channel_veterans affairs', 'payor_channel_workers comp']]\n",
    "lassoModel = Lasso(alpha = 0.1)\n",
    "lassoModel.fit(X, d)"
   ]
  },
  {
   "cell_type": "markdown",
   "id": "59979a86-9189-4dbf-a345-82db87bb2e42",
   "metadata": {},
   "source": [
    "Predicting dhat, with the covariates defined and storing it in the merged file. The Y is defined as the number of time people have claimed in the medical File. The dataset is then split into training and testing data."
   ]
  },
  {
   "cell_type": "code",
   "execution_count": 160,
   "id": "8730e7e4-7be8-42ef-8907-c752db0bb699",
   "metadata": {},
   "outputs": [
    {
     "data": {
      "text/html": [
       "<div>\n",
       "<style scoped>\n",
       "    .dataframe tbody tr th:only-of-type {\n",
       "        vertical-align: middle;\n",
       "    }\n",
       "\n",
       "    .dataframe tbody tr th {\n",
       "        vertical-align: top;\n",
       "    }\n",
       "\n",
       "    .dataframe thead th {\n",
       "        text-align: right;\n",
       "    }\n",
       "</style>\n",
       "<table border=\"1\" class=\"dataframe\">\n",
       "  <thead>\n",
       "    <tr style=\"text-align: right;\">\n",
       "      <th></th>\n",
       "      <th>journey_id</th>\n",
       "      <th>episode_id</th>\n",
       "      <th>visit_id</th>\n",
       "      <th>encounter_id</th>\n",
       "      <th>claim_date</th>\n",
       "      <th>patient_short_zip</th>\n",
       "      <th>patient_age</th>\n",
       "      <th>place_of_service_x</th>\n",
       "      <th>payor</th>\n",
       "      <th>ref_npi</th>\n",
       "      <th>...</th>\n",
       "      <th>active</th>\n",
       "      <th>start_date</th>\n",
       "      <th>end_date</th>\n",
       "      <th>patient_gender_M_y</th>\n",
       "      <th>patient_state_FL</th>\n",
       "      <th>patient_state_IL</th>\n",
       "      <th>patient_state_NY</th>\n",
       "      <th>patient_state_TX</th>\n",
       "      <th>no_of_visits</th>\n",
       "      <th>dhat</th>\n",
       "    </tr>\n",
       "  </thead>\n",
       "  <tbody>\n",
       "    <tr>\n",
       "      <th>0</th>\n",
       "      <td>00006390c96ebfffed580074c35a16a7</td>\n",
       "      <td>e25e5285e4f66d35c9840bf4e040fe73</td>\n",
       "      <td>3f45ba8ebef02b0c09b09e864e57ba5ee9d6bc9acf1c39...</td>\n",
       "      <td>c60da949b58f0351c8781c062f65d92bce76d9532d1632...</td>\n",
       "      <td>2023-07-19</td>\n",
       "      <td>922.0</td>\n",
       "      <td>60.0</td>\n",
       "      <td>Office</td>\n",
       "      <td>inland empire health plan</td>\n",
       "      <td>1.619408e+09</td>\n",
       "      <td>...</td>\n",
       "      <td>True</td>\n",
       "      <td>190001</td>\n",
       "      <td>NaN</td>\n",
       "      <td>True</td>\n",
       "      <td>False</td>\n",
       "      <td>False</td>\n",
       "      <td>False</td>\n",
       "      <td>False</td>\n",
       "      <td>28</td>\n",
       "      <td>0.017673</td>\n",
       "    </tr>\n",
       "    <tr>\n",
       "      <th>1</th>\n",
       "      <td>000072bc05e31d0126475c7a3e771af1</td>\n",
       "      <td>4d648af34c9a5da09e9bf2c9fed7263d</td>\n",
       "      <td>8b53ffacbf985d68cbf2aa8e6a9e63a3662c4eddfef1d5...</td>\n",
       "      <td>2e44e65bde3c9e9b568c6b82d41ff50c1c5ba7300d845b...</td>\n",
       "      <td>2023-02-03</td>\n",
       "      <td>921.0</td>\n",
       "      <td>55.0</td>\n",
       "      <td>Office</td>\n",
       "      <td>blue shield of california</td>\n",
       "      <td>1.952412e+09</td>\n",
       "      <td>...</td>\n",
       "      <td>True</td>\n",
       "      <td>190001</td>\n",
       "      <td>NaN</td>\n",
       "      <td>True</td>\n",
       "      <td>False</td>\n",
       "      <td>False</td>\n",
       "      <td>False</td>\n",
       "      <td>False</td>\n",
       "      <td>67</td>\n",
       "      <td>0.017726</td>\n",
       "    </tr>\n",
       "    <tr>\n",
       "      <th>2</th>\n",
       "      <td>0002af1d15822206675ddbf0242017e6</td>\n",
       "      <td>d2d0d6d5757b5b16629a91c94b6a6459</td>\n",
       "      <td>89ac58e5328c9dee6d9ae04b734bd4565d695ee6a094cc...</td>\n",
       "      <td>1fb7d7cb78ee92073f74ed89c02a03facbc272620f930b...</td>\n",
       "      <td>2023-09-09</td>\n",
       "      <td>913.0</td>\n",
       "      <td>45.0</td>\n",
       "      <td>NaN</td>\n",
       "      <td>blue shield of california</td>\n",
       "      <td>NaN</td>\n",
       "      <td>...</td>\n",
       "      <td>True</td>\n",
       "      <td>190001</td>\n",
       "      <td>NaN</td>\n",
       "      <td>True</td>\n",
       "      <td>False</td>\n",
       "      <td>False</td>\n",
       "      <td>False</td>\n",
       "      <td>False</td>\n",
       "      <td>79</td>\n",
       "      <td>0.022408</td>\n",
       "    </tr>\n",
       "    <tr>\n",
       "      <th>3</th>\n",
       "      <td>0003ff8dd03803a9197ed01075f4b094</td>\n",
       "      <td>9ca7537f9020dfe6a048a15e6c17bca6</td>\n",
       "      <td>26be6074601c058bd052eea8c3c19eb03562ef113311b1...</td>\n",
       "      <td>9bd3b0e5dd7854157cef61d69af044dae2b52ecc58f84d...</td>\n",
       "      <td>2023-07-17</td>\n",
       "      <td>922.0</td>\n",
       "      <td>60.0</td>\n",
       "      <td>Office</td>\n",
       "      <td>molina healthcare</td>\n",
       "      <td>NaN</td>\n",
       "      <td>...</td>\n",
       "      <td>True</td>\n",
       "      <td>190001</td>\n",
       "      <td>NaN</td>\n",
       "      <td>False</td>\n",
       "      <td>False</td>\n",
       "      <td>False</td>\n",
       "      <td>False</td>\n",
       "      <td>False</td>\n",
       "      <td>264</td>\n",
       "      <td>0.017673</td>\n",
       "    </tr>\n",
       "    <tr>\n",
       "      <th>4</th>\n",
       "      <td>0004029899177171c9851df0a5916b02</td>\n",
       "      <td>65471f567f945aa51cf81016186722c2</td>\n",
       "      <td>2c5c112350fda715bfb4d6e8f74d8ffda2b8ec048cbac5...</td>\n",
       "      <td>a2b03b9bd55699f7f8588fdef7f8a5d26c6d7d0c298a74...</td>\n",
       "      <td>2023-04-19</td>\n",
       "      <td>900.0</td>\n",
       "      <td>65.0</td>\n",
       "      <td>Office</td>\n",
       "      <td>centers for medicare &amp; medicaid services (cms)</td>\n",
       "      <td>NaN</td>\n",
       "      <td>...</td>\n",
       "      <td>True</td>\n",
       "      <td>190001</td>\n",
       "      <td>NaN</td>\n",
       "      <td>True</td>\n",
       "      <td>False</td>\n",
       "      <td>False</td>\n",
       "      <td>False</td>\n",
       "      <td>False</td>\n",
       "      <td>1</td>\n",
       "      <td>0.017791</td>\n",
       "    </tr>\n",
       "  </tbody>\n",
       "</table>\n",
       "<p>5 rows × 103 columns</p>\n",
       "</div>"
      ],
      "text/plain": [
       "                         journey_id                        episode_id  \\\n",
       "0  00006390c96ebfffed580074c35a16a7  e25e5285e4f66d35c9840bf4e040fe73   \n",
       "1  000072bc05e31d0126475c7a3e771af1  4d648af34c9a5da09e9bf2c9fed7263d   \n",
       "2  0002af1d15822206675ddbf0242017e6  d2d0d6d5757b5b16629a91c94b6a6459   \n",
       "3  0003ff8dd03803a9197ed01075f4b094  9ca7537f9020dfe6a048a15e6c17bca6   \n",
       "4  0004029899177171c9851df0a5916b02  65471f567f945aa51cf81016186722c2   \n",
       "\n",
       "                                            visit_id  \\\n",
       "0  3f45ba8ebef02b0c09b09e864e57ba5ee9d6bc9acf1c39...   \n",
       "1  8b53ffacbf985d68cbf2aa8e6a9e63a3662c4eddfef1d5...   \n",
       "2  89ac58e5328c9dee6d9ae04b734bd4565d695ee6a094cc...   \n",
       "3  26be6074601c058bd052eea8c3c19eb03562ef113311b1...   \n",
       "4  2c5c112350fda715bfb4d6e8f74d8ffda2b8ec048cbac5...   \n",
       "\n",
       "                                        encounter_id  claim_date  \\\n",
       "0  c60da949b58f0351c8781c062f65d92bce76d9532d1632...  2023-07-19   \n",
       "1  2e44e65bde3c9e9b568c6b82d41ff50c1c5ba7300d845b...  2023-02-03   \n",
       "2  1fb7d7cb78ee92073f74ed89c02a03facbc272620f930b...  2023-09-09   \n",
       "3  9bd3b0e5dd7854157cef61d69af044dae2b52ecc58f84d...  2023-07-17   \n",
       "4  a2b03b9bd55699f7f8588fdef7f8a5d26c6d7d0c298a74...  2023-04-19   \n",
       "\n",
       "   patient_short_zip  patient_age place_of_service_x  \\\n",
       "0              922.0         60.0             Office   \n",
       "1              921.0         55.0             Office   \n",
       "2              913.0         45.0                NaN   \n",
       "3              922.0         60.0             Office   \n",
       "4              900.0         65.0             Office   \n",
       "\n",
       "                                            payor       ref_npi  ...  active  \\\n",
       "0                       inland empire health plan  1.619408e+09  ...    True   \n",
       "1                       blue shield of california  1.952412e+09  ...    True   \n",
       "2                       blue shield of california           NaN  ...    True   \n",
       "3                               molina healthcare           NaN  ...    True   \n",
       "4  centers for medicare & medicaid services (cms)           NaN  ...    True   \n",
       "\n",
       "  start_date end_date  patient_gender_M_y patient_state_FL patient_state_IL  \\\n",
       "0     190001      NaN                True            False            False   \n",
       "1     190001      NaN                True            False            False   \n",
       "2     190001      NaN                True            False            False   \n",
       "3     190001      NaN               False            False            False   \n",
       "4     190001      NaN                True            False            False   \n",
       "\n",
       "  patient_state_NY patient_state_TX no_of_visits      dhat  \n",
       "0            False            False           28  0.017673  \n",
       "1            False            False           67  0.017726  \n",
       "2            False            False           79  0.022408  \n",
       "3            False            False          264  0.017673  \n",
       "4            False            False            1  0.017791  \n",
       "\n",
       "[5 rows x 103 columns]"
      ]
     },
     "execution_count": 160,
     "metadata": {},
     "output_type": "execute_result"
    }
   ],
   "source": [
    "# Predicting dhat\n",
    "dhat = lassoModel.predict(X)\n",
    "mergedFile['dhat'] = dhat\n",
    "mergedFile.head(5)"
   ]
  },
  {
   "cell_type": "code",
   "execution_count": 161,
   "id": "16010f95-df9e-465a-8cf7-8c5853a2c667",
   "metadata": {},
   "outputs": [],
   "source": [
    "# Declaring variables and including treatment variables in covariates list\n",
    "Y = mergedFile['no_of_claim']\n",
    "X = mergedFile[['ozempicVariable', 'dhat','patient_age', 'patient_gender_M_x', 'line_charge', 'claim_charge', 'number_of_refills_authorized', 'patient_pay', 'quantity_dispensed', 'quantity_prescribed_original','patient_state_FL', 'patient_state_IL', 'patient_state_NY', 'patient_state_TX', 'patient_state_AK', 'patient_state_AL', 'patient_state_AZ', 'patient_state_CA', 'visit_type_non-hospital institution visit', 'visit_type_outpatient visit', 'visit_type_pharmacy visit', 'payor_channel_managed medicaid', 'payor_channel_medicaid', 'payor_channel_medicare advantage', 'payor_channel_tricare', 'payor_channel_veterans affairs', 'payor_channel_workers comp']]"
   ]
  },
  {
   "cell_type": "code",
   "execution_count": 162,
   "id": "fbf1ee2b-6594-4866-895f-5900e6a41e9b",
   "metadata": {},
   "outputs": [],
   "source": [
    "# Splitting the data\n",
    "x_train_new, x_test_new, y_train_new, y_test_new = train_test_split(X, Y, test_size=0.2, random_state=42)"
   ]
  },
  {
   "cell_type": "code",
   "execution_count": 163,
   "id": "b92c17ac-7455-4015-90de-0c4079caaef5",
   "metadata": {},
   "outputs": [],
   "source": [
    "class SelectiveRegularizationLinearRegression:\n",
    "    def __init__(self, alpha, apply_penalty, tolerance=1e-4, max_iterations=1000):\n",
    "        self.alpha = alpha\n",
    "        self.tolerance = tolerance\n",
    "        self.apply_penalty = apply_penalty\n",
    "        self.max_iterations = max_iterations\n",
    "        self.w = None\n",
    "        \n",
    "    def _predicted_values(self, X, w):\n",
    "        return np.matmul(X, w)\n",
    "\n",
    "    def _rho_compute(self, y, X, w, j):\n",
    "        X_k = np.delete(X, j, 1)\n",
    "        w_k = np.delete(w, j)\n",
    "        predict_k = self._predicted_values(X_k, w_k)\n",
    "        residual = y - predict_k\n",
    "        rho_j = np.sum(X[:, j] * residual)\n",
    "        return rho_j\n",
    "\n",
    "    def _z_compute(self, X):\n",
    "        return np.sum(X * X, axis=0)\n",
    "    \n",
    "    def fit(self, X, y):\n",
    "        n_samples, n_features = X.shape\n",
    "        if not self.w:\n",
    "            self.w = np.zeros(n_features)\n",
    "        z = self._z_compute(X)\n",
    "        for iteration in range(self.max_iterations):\n",
    "            max_step = 0\n",
    "            for j in range(n_features):\n",
    "                rho_j = self._rho_compute(y, X, self.w, j)\n",
    "                w_j_old = self.w[j]\n",
    "                if j == 0:\n",
    "                    self.w[j] = rho_j / z[j]\n",
    "                else:\n",
    "                    if self.apply_penalty[j]:\n",
    "                        if rho_j < -self.alpha * n_samples:\n",
    "                            self.w[j] = (rho_j + self.alpha * n_samples) / z[j]\n",
    "                        elif -self.alpha * n_samples <= rho_j <= self.alpha * n_samples:\n",
    "                            self.w[j] = 0.\n",
    "                        elif rho_j > self.alpha * n_samples:\n",
    "                            self.w[j] = (rho_j - self.alpha * n_samples) / z[j]\n",
    "                    else:\n",
    "                        self.w[j] = rho_j / z[j]\n",
    "                max_step = max(max_step, abs(self.w[j] - w_j_old))\n",
    "            if max_step < self.tolerance:\n",
    "                break\n",
    "        return self\n",
    "\n",
    "    def predict(self, X):\n",
    "        if self.w is None:\n",
    "            raise ValueError(\"Model is not fitted yet!\")\n",
    "        return self._predicted_values(X, self.w)"
   ]
  },
  {
   "cell_type": "code",
   "execution_count": 164,
   "id": "56200ac2-1e5b-4667-bc7c-f791dc4b2559",
   "metadata": {},
   "outputs": [],
   "source": [
    "# Fetching x values and getting the length\n",
    "X = X.values\n",
    "n_samples = len(X)\n",
    "\n",
    "# Adding intercept term\n",
    "X = np.hstack((np.ones((n_samples, 1)), X))\n",
    "y = Y.values"
   ]
  },
  {
   "cell_type": "code",
   "execution_count": 165,
   "id": "9e96a9c0-1ec6-4f80-a5b2-c6f0fd856f0f",
   "metadata": {},
   "outputs": [
    {
     "data": {
      "text/plain": [
       "28"
      ]
     },
     "execution_count": 165,
     "metadata": {},
     "output_type": "execute_result"
    }
   ],
   "source": [
    "# Checking the number of co-efficients\n",
    "X.shape[1]"
   ]
  },
  {
   "cell_type": "code",
   "execution_count": 166,
   "id": "0561b004-ae84-433e-a9db-ff0309695e5f",
   "metadata": {},
   "outputs": [
    {
     "data": {
      "text/plain": [
       "<__main__.SelectiveRegularizationLinearRegression at 0x284fd08d0>"
      ]
     },
     "execution_count": 166,
     "metadata": {},
     "output_type": "execute_result"
    }
   ],
   "source": [
    "# Applying penalty\n",
    "# Setting false to the first two arrays which are treatment variable, d and dhat. This is due to inclusion of them unpenalised\n",
    "# The other (coefficents - 2) = 26, are marked penalty with true\n",
    "apply_penalty = np.array([False, False] + [True] * (26))\n",
    "\n",
    "# Setting the penalty term and running the second stage lasso\n",
    "alpha = 0.1 \n",
    "max_iterations = 1000 \n",
    "model = SelectiveRegularizationLinearRegression(alpha, apply_penalty, max_iterations)\n",
    "\n",
    "# Fitting the model\n",
    "model.fit(X, Y)"
   ]
  },
  {
   "cell_type": "code",
   "execution_count": 167,
   "id": "167445f5-a79b-4d2c-9959-cd29908908ba",
   "metadata": {},
   "outputs": [
    {
     "name": "stdout",
     "output_type": "stream",
     "text": [
      "Learned coefficients: [ 1.92541686e+01  4.46679093e+01  0.00000000e+00 -8.90888657e-03\n",
      " -7.04284699e-01  1.53592255e-04  3.09688907e-18  6.45668013e-02\n",
      " -2.36151150e-03  1.04370019e-04  1.52971878e-03  0.00000000e+00\n",
      "  0.00000000e+00  0.00000000e+00 -2.95266254e+00  0.00000000e+00\n",
      "  0.00000000e+00  0.00000000e+00  0.00000000e+00  0.00000000e+00\n",
      " -8.07845115e-01  0.00000000e+00  3.65566505e+00  0.00000000e+00\n",
      "  4.87256728e+00  0.00000000e+00  0.00000000e+00  0.00000000e+00]\n"
     ]
    }
   ],
   "source": [
    "# Printing the model coefficients\n",
    "print(\"Learned coefficients:\", model.w)"
   ]
  },
  {
   "cell_type": "markdown",
   "id": "feb9354b-af42-46da-ad76-a4bdea600217",
   "metadata": {},
   "source": [
    "## **PART 5: MODEL EVALUATION**"
   ]
  },
  {
   "cell_type": "markdown",
   "id": "5bb77c42-ef44-4d61-9291-a12e181f0c57",
   "metadata": {},
   "source": [
    "### TREATMENT EFFECT\n",
    "\n",
    "The double lasso coefficient of d (treatment variable) acts as the treatment effect. The first coefficient of our model is d and is extractted by [0]. \n",
    "\n",
    "**INFERENCE:** The value 19.25 suggests that the number of people claiming on medical services were higher on an average with people having treatment variable as 1 i.e ozempic prescription than the one having no treatment variable. Since, the value is positive, it increases with additional unit."
   ]
  },
  {
   "cell_type": "code",
   "execution_count": 169,
   "id": "8e539a5c-08ef-4716-9a8a-77c112f3f0cb",
   "metadata": {},
   "outputs": [
    {
     "name": "stdout",
     "output_type": "stream",
     "text": [
      "Treatment Affect: 19.254168614617424\n"
     ]
    }
   ],
   "source": [
    "print(\"Treatment Affect:\", model.w[0])"
   ]
  },
  {
   "cell_type": "markdown",
   "id": "628757e7-6b9c-48f1-9140-d7fe22c844e3",
   "metadata": {},
   "source": [
    "### MODEL PERFORMACE:"
   ]
  },
  {
   "cell_type": "code",
   "execution_count": 170,
   "id": "516422d6-5da2-494c-ae90-928f2b1d41ba",
   "metadata": {},
   "outputs": [],
   "source": [
    "# To predict the r^2 and mse, getting the x_test value\n",
    "x_test_new = x_test_new.values\n",
    "n_samples = len(x_test_new)\n",
    "\n",
    "# Adding intercept term and predicting\n",
    "x_test_new = np.hstack((np.ones((n_samples, 1)), x_test_new))\n",
    "y_pred = model.predict(x_test_new)"
   ]
  },
  {
   "cell_type": "code",
   "execution_count": 171,
   "id": "0e9fa4a2-cbb7-4219-9c92-db66d57cb490",
   "metadata": {},
   "outputs": [
    {
     "name": "stdout",
     "output_type": "stream",
     "text": [
      "R^2 Value: 0.06369985944213452\n"
     ]
    }
   ],
   "source": [
    "# Calculating r^2 value\n",
    "print(\"R^2 Value:\",r2_score(y_test_new, y_pred))"
   ]
  },
  {
   "cell_type": "code",
   "execution_count": 172,
   "id": "cdb8ff96-1f36-4909-90fd-ef8b63326743",
   "metadata": {},
   "outputs": [
    {
     "name": "stdout",
     "output_type": "stream",
     "text": [
      "Mean square error: 711.382185526393\n",
      "Root Mean square error: 26.671748827671443\n"
     ]
    }
   ],
   "source": [
    "# Calculating MSE Values\n",
    "print(\"Mean square error:\", mean_squared_error(y_test_new, y_pred))\n",
    "print(\"Root Mean square error:\",math.sqrt(mean_squared_error(y_test_new, y_pred)))"
   ]
  },
  {
   "cell_type": "markdown",
   "id": "b213d651-efae-42ec-9bae-96b6d0ef9554",
   "metadata": {},
   "source": [
    "**INTERPRETATIONS:**\n",
    "\n",
    "1. The R^2 value of 0.063, suggests that the model explains 6.3% of the total variation of the dependent variable. This indicates that the model is not a good fit, since the included variable only explains little variation.\n",
    "2. The Root mean square of 26.671 and Mean squared error of 711.38 suggests good amount of variance, again supporting the model as not a good fit."
   ]
  },
  {
   "cell_type": "markdown",
   "id": "60b40f83-5367-4fa2-9ab9-d7876f247207",
   "metadata": {},
   "source": [
    "## **PART 6: ADDITIONAL INSIGHTS:**\n",
    "\n",
    "**NOTE:** Along with exploring in part 1, checking for additional information regarding to states, zips and diagnosis codes."
   ]
  },
  {
   "cell_type": "code",
   "execution_count": 173,
   "id": "eee8cbee-2321-4ea0-98e2-ad95f40dff95",
   "metadata": {},
   "outputs": [
    {
     "name": "stdout",
     "output_type": "stream",
     "text": [
      "diag_1\n",
      "I10      1018\n",
      "Z0000     529\n",
      "E119      342\n",
      "E1165     219\n",
      "Z0001     218\n",
      "Z1231     176\n",
      "R079      119\n",
      "Z1211     116\n",
      "E785      108\n",
      "Z23       105\n",
      "Name: count, dtype: int64\n"
     ]
    }
   ],
   "source": [
    "# Checking the top 10 diagnosis code for ozempic after filtering out\n",
    "mergedFileFiltered = mergedFile[mergedFile['proc_code'] == 'J3490']\n",
    "unique_diagnosis_codes = mergedFile['diag_1'].unique()\n",
    "count_codes = mergedFile['diag_1'].value_counts()\n",
    "sorted_codes = count_codes.sort_values(ascending=False).head(10)\n",
    "print(sorted_codes)"
   ]
  },
  {
   "cell_type": "markdown",
   "id": "5edcab79-f676-4c97-8754-52150b9eb05a",
   "metadata": {},
   "source": [
    "**FINDINGS 1:** By checking the diagnosis code, we can see that the top codes related to ozempyic hare for 'I10' - Essential primary hypertension, 'Z0000' - No abnormal findings, 'E119' - Type 2 diabetes, 'E1165' - Type 2 diabetes, 'Z0001' - Abnormal findings in routine examination, 'Z1231' - Cancerous tumours. Hypertension and type 2 diabetes are few of the causes defined for the treatment suggested for ozempic."
   ]
  },
  {
   "cell_type": "code",
   "execution_count": 180,
   "id": "4e8bd9ac-c870-40d3-947b-bc0f657f01d2",
   "metadata": {},
   "outputs": [
    {
     "name": "stderr",
     "output_type": "stream",
     "text": [
      "/var/folders/r8/b1vh2fnj40x1yckp9twj6c880000gn/T/ipykernel_42930/2801302638.py:2: DtypeWarning: Columns (9,10,29,43) have mixed types. Specify dtype option on import or set low_memory=False.\n",
      "  scriptsFileNew = pd.read_csv('/Users/stutishekhar/Downloads/longyear-obese-hypertensive-40-75-scripts-SMALL-sample.csv')\n"
     ]
    }
   ],
   "source": [
    "# Reading file again to get states\n",
    "scriptsFileNew = pd.read_csv('/Users/stutishekhar/Downloads/longyear-obese-hypertensive-40-75-scripts-SMALL-sample.csv')\n",
    "medicalFileNew = pd.read_csv('/Users/stutishekhar/Downloads/longyear-obese-hypertensive-40-57-medical-SMALL-sample.csv')"
   ]
  },
  {
   "cell_type": "code",
   "execution_count": 181,
   "id": "05968c1b-3e31-4392-aa6d-6336a7911d66",
   "metadata": {},
   "outputs": [
    {
     "name": "stdout",
     "output_type": "stream",
     "text": [
      "0          CA\n",
      "1          CA\n",
      "2          CA\n",
      "3          CA\n",
      "4          CA\n",
      "           ..\n",
      "1518143    CA\n",
      "1518144    CA\n",
      "1518145    CA\n",
      "1518146    CA\n",
      "1518147    CA\n",
      "Name: patient_state, Length: 1518148, dtype: object\n"
     ]
    }
   ],
   "source": [
    "# Combining all the states in both the files\n",
    "medicalState = medicalFileNew['patient_state']\n",
    "scriptsState = scriptsFileNew['patient_state']\n",
    "\n",
    "# Combining the names\n",
    "combined = pd.concat([medicalState, scriptsState], ignore_index=True)\n",
    "print(combined)"
   ]
  },
  {
   "cell_type": "code",
   "execution_count": 182,
   "id": "746ece19-124b-46d7-968e-26b5f2c812f1",
   "metadata": {},
   "outputs": [
    {
     "data": {
      "image/png": "[encoded data removed]",
      "text/plain": [
       "<Figure size 640x480 with 1 Axes>"
      ]
     },
     "metadata": {},
     "output_type": "display_data"
    }
   ],
   "source": [
    "# Plotting a graph to visualise\n",
    "state_counts = combined.value_counts()\n",
    "\n",
    "state_counts.plot(kind='bar', color='darkgreen', edgecolor = 'black')\n",
    "plt.title('Distribution of Patient States')\n",
    "plt.xlabel('States')\n",
    "plt.ylabel('Frequency')\n",
    "plt.show()"
   ]
  },
  {
   "cell_type": "markdown",
   "id": "e31c0a55-0e2a-4eda-88c8-bb2721a3d5a9",
   "metadata": {},
   "source": [
    "**FINDINGS 2:** As seen in Part 1 also, the frequency of CA has very large difference compared to any another state, suggesting either actual usage of ozempic or data collection bias. This bias means of surveying more in California region, it could also include voluntary bias, people reporting more in these states."
   ]
  },
  {
   "cell_type": "code",
   "execution_count": 183,
   "id": "1c9b753a-9e62-480c-a176-7d5ecfb469b7",
   "metadata": {},
   "outputs": [
    {
     "name": "stdout",
     "output_type": "stream",
     "text": [
      "Patient Zip: [922. 900. 921. 910. 913. 911. 912. 908. 853. 995. 352. 105. 852. 996.\n",
      " 857. 863. 109. 856. 864. 350. 859. 629. 860. 351. 895. 320. 481. 774.\n",
      " 997. 610. 495. 891. 321. 372. 855. 850.  74. 527. 478. 999. 770. 773.\n",
      " 112. 720. 782. 370. 787. 776. 170. 523. 998. 330.  88. 923. 606. 612.\n",
      " 503. 344. 924. 554. 334. 200. 337.  91. 604. 753.]\n"
     ]
    }
   ],
   "source": [
    "# Checking unique values for zip codes\n",
    "print(\"Patient Zip:\", medicalFile['patient_short_zip'].dropna().unique())"
   ]
  },
  {
   "cell_type": "code",
   "execution_count": 184,
   "id": "68623311-6c29-4619-beb2-3cb583094247",
   "metadata": {},
   "outputs": [
    {
     "data": {
      "image/png": "[encoded data removed]",
      "text/plain": [
       "<Figure size 640x480 with 1 Axes>"
      ]
     },
     "metadata": {},
     "output_type": "display_data"
    }
   ],
   "source": [
    "# Plotting histogram to visualise\n",
    "patientZipFiltered = medicalFile['patient_short_zip'].dropna().unique()\n",
    "\n",
    "plt.hist(patientZipFiltered, bins=len(patientZipFiltered), color='darkgreen', edgecolor='black')\n",
    "plt.title('Distribution of ZIP Codes')\n",
    "plt.xlabel('ZIP Codes')\n",
    "plt.ylabel('Frequency')\n",
    "plt.show()"
   ]
  },
  {
   "cell_type": "code",
   "execution_count": 185,
   "id": "a577d9d0-0877-4bb1-ac21-4f6232375b6f",
   "metadata": {},
   "outputs": [
    {
     "name": "stdout",
     "output_type": "stream",
     "text": [
      "Top 3 ZIP codes:\n",
      "patient_short_zip\n",
      "900.0    8498\n",
      "922.0    4368\n",
      "921.0    3670\n",
      "Name: count, dtype: int64\n"
     ]
    }
   ],
   "source": [
    "# Fetching codes\n",
    "zipCodes = medicalFile['patient_short_zip'].dropna().value_counts().head(3)\n",
    "\n",
    "print(\"Top 3 ZIP codes:\")\n",
    "print(zipCodes)"
   ]
  },
  {
   "cell_type": "markdown",
   "id": "4cd3b145-3ce1-44f7-8e99-920dbc60392a",
   "metadata": {},
   "source": [
    "**FINDINGS 3:** The graph suggests higher frequency near the zone of 850 - 950. To check this, the file with zip count is sorted in descending order and top 3 codes are extracted. The zip codes, 900 - 'Los Angeles' , 922 - 'Indio', 908 - 'Long beach', all are in California supporting the number of high 'CA' cases."
   ]
  },
  {
   "cell_type": "markdown",
   "id": "828f7784-9315-4150-b4d1-a18e51cc4b5f",
   "metadata": {},
   "source": [
    "By researching, it suggests that there was around 150% increase in the ozempic consumption in California. It is common to have this drug prescribed for Type 2 diabetes, which also covers this in insurance. Since, the drug is not cheap, insurance coverage could be treated as a variable as this could be related to the ozempic use. By comparing Los Angeles and long Beach in Data.usa, we could see that there is no relation of population here, however both the places have Mexico origin foreign - residents born. Additionally, the work distribution seemed pretty similar."
   ]
  },
  {
   "cell_type": "code",
   "execution_count": null,
   "id": "8b2c91e1-1a62-4d7d-b642-29ab94e8ae1f",
   "metadata": {},
   "outputs": [],
   "source": []
  }
 ],
 "metadata": {
  "kernelspec": {
   "display_name": "Python 3 (ipykernel)",
   "language": "python",
   "name": "python3"
  },
  "language_info": {
   "codemirror_mode": {
    "name": "ipython",
    "version": 3
   },
   "file_extension": ".py",
   "mimetype": "text/x-python",
   "name": "python",
   "nbconvert_exporter": "python",
   "pygments_lexer": "ipython3",
   "version": "3.11.7"
  }
 },
 "nbformat": 4,
 "nbformat_minor": 5
}
